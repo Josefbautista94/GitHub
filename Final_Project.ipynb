{
  "nbformat": 4,
  "nbformat_minor": 0,
  "metadata": {
    "kernelspec": {
      "display_name": "Python 3",
      "language": "python",
      "name": "python3"
    },
    "language_info": {
      "codemirror_mode": {
        "name": "ipython",
        "version": 3
      },
      "file_extension": ".py",
      "mimetype": "text/x-python",
      "name": "python",
      "nbconvert_exporter": "python",
      "pygments_lexer": "ipython3",
      "version": "3.7.3"
    },
    "colab": {
      "name": "Final Project.ipynb",
      "provenance": [],
      "collapsed_sections": []
    }
  },
  "cells": [
    {
      "cell_type": "code",
      "metadata": {
        "id": "c5xYR69Hb7HG",
        "colab_type": "code",
        "colab": {}
      },
      "source": [
        "import os\n",
        "import numpy as np\n",
        "import pandas as pd\n",
        "import matplotlib.pyplot as plt\n",
        "%matplotlib inline\n",
        "import folium"
      ],
      "execution_count": 0,
      "outputs": []
    },
    {
      "cell_type": "code",
      "metadata": {
        "id": "jmYxSYR9b7HK",
        "colab_type": "code",
        "outputId": "80026926-b97c-4031-d7c8-91fec920221e",
        "colab": {
          "base_uri": "https://localhost:8080/",
          "height": 958
        }
      },
      "source": [
        "url = 'https://raw.githubusercontent.com/Josefbautista94/GitHub/master/NYPD_Shooting_Incident_Data__Year_To_Date_.csv'\n",
        "data = pd.read_csv(url)\n",
        "data.head(21)\n",
        "\n"
      ],
      "execution_count": 0,
      "outputs": [
        {
          "output_type": "execute_result",
          "data": {
            "text/html": [
              "<div>\n",
              "<style scoped>\n",
              "    .dataframe tbody tr th:only-of-type {\n",
              "        vertical-align: middle;\n",
              "    }\n",
              "\n",
              "    .dataframe tbody tr th {\n",
              "        vertical-align: top;\n",
              "    }\n",
              "\n",
              "    .dataframe thead th {\n",
              "        text-align: right;\n",
              "    }\n",
              "</style>\n",
              "<table border=\"1\" class=\"dataframe\">\n",
              "  <thead>\n",
              "    <tr style=\"text-align: right;\">\n",
              "      <th></th>\n",
              "      <th>INCIDENT_KEY</th>\n",
              "      <th>OCCUR_DATE</th>\n",
              "      <th>OCCUR_TIME</th>\n",
              "      <th>BORO</th>\n",
              "      <th>PRECINCT</th>\n",
              "      <th>JURISDICTION_CODE</th>\n",
              "      <th>LOCATION_DESC</th>\n",
              "      <th>STATISTICAL_MURDER_FLAG</th>\n",
              "      <th>PERP_AGE_GROUP</th>\n",
              "      <th>PERP_SEX</th>\n",
              "      <th>PERP_RACE</th>\n",
              "      <th>VIC_AGE_GROUP</th>\n",
              "      <th>VIC_SEX</th>\n",
              "      <th>VIC_RACE</th>\n",
              "      <th>X_COORD_CD</th>\n",
              "      <th>Y_COORD_CD</th>\n",
              "      <th>Latitude</th>\n",
              "      <th>Longitude</th>\n",
              "    </tr>\n",
              "  </thead>\n",
              "  <tbody>\n",
              "    <tr>\n",
              "      <th>0</th>\n",
              "      <td>203083804</td>\n",
              "      <td>09/30/2019</td>\n",
              "      <td>13:49:00</td>\n",
              "      <td>MANHATTAN</td>\n",
              "      <td>23</td>\n",
              "      <td>2.0</td>\n",
              "      <td>MULTI DWELL - PUBLIC HOUS</td>\n",
              "      <td>False</td>\n",
              "      <td>18-24</td>\n",
              "      <td>M</td>\n",
              "      <td>BLACK</td>\n",
              "      <td>18-24</td>\n",
              "      <td>M</td>\n",
              "      <td>BLACK</td>\n",
              "      <td>998869</td>\n",
              "      <td>230618</td>\n",
              "      <td>40.799665</td>\n",
              "      <td>-73.947200</td>\n",
              "    </tr>\n",
              "    <tr>\n",
              "      <th>1</th>\n",
              "      <td>203083804</td>\n",
              "      <td>09/30/2019</td>\n",
              "      <td>13:49:00</td>\n",
              "      <td>MANHATTAN</td>\n",
              "      <td>23</td>\n",
              "      <td>2.0</td>\n",
              "      <td>MULTI DWELL - PUBLIC HOUS</td>\n",
              "      <td>True</td>\n",
              "      <td>18-24</td>\n",
              "      <td>M</td>\n",
              "      <td>BLACK</td>\n",
              "      <td>18-24</td>\n",
              "      <td>M</td>\n",
              "      <td>BLACK</td>\n",
              "      <td>998869</td>\n",
              "      <td>230618</td>\n",
              "      <td>40.799665</td>\n",
              "      <td>-73.947200</td>\n",
              "    </tr>\n",
              "    <tr>\n",
              "      <th>2</th>\n",
              "      <td>203041425</td>\n",
              "      <td>09/29/2019</td>\n",
              "      <td>23:15:00</td>\n",
              "      <td>BRONX</td>\n",
              "      <td>52</td>\n",
              "      <td>0.0</td>\n",
              "      <td>NaN</td>\n",
              "      <td>False</td>\n",
              "      <td>25-44</td>\n",
              "      <td>M</td>\n",
              "      <td>WHITE HISPANIC</td>\n",
              "      <td>18-24</td>\n",
              "      <td>M</td>\n",
              "      <td>BLACK HISPANIC</td>\n",
              "      <td>1010668</td>\n",
              "      <td>253614</td>\n",
              "      <td>40.862755</td>\n",
              "      <td>-73.904493</td>\n",
              "    </tr>\n",
              "    <tr>\n",
              "      <th>3</th>\n",
              "      <td>203041429</td>\n",
              "      <td>09/29/2019</td>\n",
              "      <td>18:30:00</td>\n",
              "      <td>STATEN ISLAND</td>\n",
              "      <td>120</td>\n",
              "      <td>0.0</td>\n",
              "      <td>NaN</td>\n",
              "      <td>False</td>\n",
              "      <td>NaN</td>\n",
              "      <td>NaN</td>\n",
              "      <td>NaN</td>\n",
              "      <td>&lt;18</td>\n",
              "      <td>M</td>\n",
              "      <td>BLACK</td>\n",
              "      <td>962585</td>\n",
              "      <td>165738</td>\n",
              "      <td>40.621571</td>\n",
              "      <td>-74.078043</td>\n",
              "    </tr>\n",
              "    <tr>\n",
              "      <th>4</th>\n",
              "      <td>203041424</td>\n",
              "      <td>09/29/2019</td>\n",
              "      <td>00:35:00</td>\n",
              "      <td>BRONX</td>\n",
              "      <td>47</td>\n",
              "      <td>2.0</td>\n",
              "      <td>MULTI DWELL - PUBLIC HOUS</td>\n",
              "      <td>True</td>\n",
              "      <td>25-44</td>\n",
              "      <td>M</td>\n",
              "      <td>BLACK</td>\n",
              "      <td>25-44</td>\n",
              "      <td>M</td>\n",
              "      <td>WHITE</td>\n",
              "      <td>1026855</td>\n",
              "      <td>262287</td>\n",
              "      <td>40.886497</td>\n",
              "      <td>-73.845917</td>\n",
              "    </tr>\n",
              "    <tr>\n",
              "      <th>5</th>\n",
              "      <td>203041430</td>\n",
              "      <td>09/28/2019</td>\n",
              "      <td>01:17:00</td>\n",
              "      <td>BRONX</td>\n",
              "      <td>42</td>\n",
              "      <td>0.0</td>\n",
              "      <td>NaN</td>\n",
              "      <td>True</td>\n",
              "      <td>NaN</td>\n",
              "      <td>NaN</td>\n",
              "      <td>NaN</td>\n",
              "      <td>18-24</td>\n",
              "      <td>M</td>\n",
              "      <td>BLACK</td>\n",
              "      <td>1012860</td>\n",
              "      <td>244801</td>\n",
              "      <td>40.838559</td>\n",
              "      <td>-73.896606</td>\n",
              "    </tr>\n",
              "    <tr>\n",
              "      <th>6</th>\n",
              "      <td>203042901</td>\n",
              "      <td>09/27/2019</td>\n",
              "      <td>23:29:00</td>\n",
              "      <td>BROOKLYN</td>\n",
              "      <td>75</td>\n",
              "      <td>2.0</td>\n",
              "      <td>MULTI DWELL - PUBLIC HOUS</td>\n",
              "      <td>False</td>\n",
              "      <td>NaN</td>\n",
              "      <td>NaN</td>\n",
              "      <td>NaN</td>\n",
              "      <td>45-64</td>\n",
              "      <td>M</td>\n",
              "      <td>BLACK</td>\n",
              "      <td>1019084</td>\n",
              "      <td>183993</td>\n",
              "      <td>40.671635</td>\n",
              "      <td>-73.874428</td>\n",
              "    </tr>\n",
              "    <tr>\n",
              "      <th>7</th>\n",
              "      <td>203041427</td>\n",
              "      <td>09/27/2019</td>\n",
              "      <td>21:45:00</td>\n",
              "      <td>QUEENS</td>\n",
              "      <td>101</td>\n",
              "      <td>0.0</td>\n",
              "      <td>NaN</td>\n",
              "      <td>False</td>\n",
              "      <td>18-24</td>\n",
              "      <td>M</td>\n",
              "      <td>BLACK</td>\n",
              "      <td>25-44</td>\n",
              "      <td>F</td>\n",
              "      <td>BLACK</td>\n",
              "      <td>1051162</td>\n",
              "      <td>155661</td>\n",
              "      <td>40.593685</td>\n",
              "      <td>-73.759070</td>\n",
              "    </tr>\n",
              "    <tr>\n",
              "      <th>8</th>\n",
              "      <td>203041423</td>\n",
              "      <td>09/27/2019</td>\n",
              "      <td>20:40:00</td>\n",
              "      <td>BROOKLYN</td>\n",
              "      <td>75</td>\n",
              "      <td>2.0</td>\n",
              "      <td>MULTI DWELL - PUBLIC HOUS</td>\n",
              "      <td>False</td>\n",
              "      <td>NaN</td>\n",
              "      <td>NaN</td>\n",
              "      <td>NaN</td>\n",
              "      <td>25-44</td>\n",
              "      <td>F</td>\n",
              "      <td>BLACK</td>\n",
              "      <td>1013031</td>\n",
              "      <td>182526</td>\n",
              "      <td>40.667630</td>\n",
              "      <td>-73.896254</td>\n",
              "    </tr>\n",
              "    <tr>\n",
              "      <th>9</th>\n",
              "      <td>203041423</td>\n",
              "      <td>09/27/2019</td>\n",
              "      <td>20:40:00</td>\n",
              "      <td>BROOKLYN</td>\n",
              "      <td>75</td>\n",
              "      <td>2.0</td>\n",
              "      <td>MULTI DWELL - PUBLIC HOUS</td>\n",
              "      <td>False</td>\n",
              "      <td>NaN</td>\n",
              "      <td>NaN</td>\n",
              "      <td>NaN</td>\n",
              "      <td>18-24</td>\n",
              "      <td>M</td>\n",
              "      <td>BLACK</td>\n",
              "      <td>1013031</td>\n",
              "      <td>182526</td>\n",
              "      <td>40.667630</td>\n",
              "      <td>-73.896254</td>\n",
              "    </tr>\n",
              "    <tr>\n",
              "      <th>10</th>\n",
              "      <td>203041423</td>\n",
              "      <td>09/27/2019</td>\n",
              "      <td>20:40:00</td>\n",
              "      <td>BROOKLYN</td>\n",
              "      <td>75</td>\n",
              "      <td>2.0</td>\n",
              "      <td>MULTI DWELL - PUBLIC HOUS</td>\n",
              "      <td>False</td>\n",
              "      <td>NaN</td>\n",
              "      <td>NaN</td>\n",
              "      <td>NaN</td>\n",
              "      <td>25-44</td>\n",
              "      <td>M</td>\n",
              "      <td>BLACK</td>\n",
              "      <td>1013031</td>\n",
              "      <td>182526</td>\n",
              "      <td>40.667630</td>\n",
              "      <td>-73.896254</td>\n",
              "    </tr>\n",
              "    <tr>\n",
              "      <th>11</th>\n",
              "      <td>203041432</td>\n",
              "      <td>09/27/2019</td>\n",
              "      <td>20:03:00</td>\n",
              "      <td>QUEENS</td>\n",
              "      <td>101</td>\n",
              "      <td>2.0</td>\n",
              "      <td>MULTI DWELL - PUBLIC HOUS</td>\n",
              "      <td>False</td>\n",
              "      <td>NaN</td>\n",
              "      <td>NaN</td>\n",
              "      <td>NaN</td>\n",
              "      <td>18-24</td>\n",
              "      <td>M</td>\n",
              "      <td>BLACK</td>\n",
              "      <td>1047439</td>\n",
              "      <td>156663</td>\n",
              "      <td>40.596463</td>\n",
              "      <td>-73.772466</td>\n",
              "    </tr>\n",
              "    <tr>\n",
              "      <th>12</th>\n",
              "      <td>203041432</td>\n",
              "      <td>09/27/2019</td>\n",
              "      <td>20:03:00</td>\n",
              "      <td>QUEENS</td>\n",
              "      <td>101</td>\n",
              "      <td>2.0</td>\n",
              "      <td>MULTI DWELL - PUBLIC HOUS</td>\n",
              "      <td>True</td>\n",
              "      <td>NaN</td>\n",
              "      <td>NaN</td>\n",
              "      <td>NaN</td>\n",
              "      <td>18-24</td>\n",
              "      <td>M</td>\n",
              "      <td>BLACK</td>\n",
              "      <td>1047439</td>\n",
              "      <td>156663</td>\n",
              "      <td>40.596463</td>\n",
              "      <td>-73.772466</td>\n",
              "    </tr>\n",
              "    <tr>\n",
              "      <th>13</th>\n",
              "      <td>203041432</td>\n",
              "      <td>09/27/2019</td>\n",
              "      <td>20:03:00</td>\n",
              "      <td>QUEENS</td>\n",
              "      <td>101</td>\n",
              "      <td>2.0</td>\n",
              "      <td>MULTI DWELL - PUBLIC HOUS</td>\n",
              "      <td>False</td>\n",
              "      <td>NaN</td>\n",
              "      <td>NaN</td>\n",
              "      <td>NaN</td>\n",
              "      <td>25-44</td>\n",
              "      <td>M</td>\n",
              "      <td>BLACK</td>\n",
              "      <td>1047439</td>\n",
              "      <td>156663</td>\n",
              "      <td>40.596463</td>\n",
              "      <td>-73.772466</td>\n",
              "    </tr>\n",
              "    <tr>\n",
              "      <th>14</th>\n",
              "      <td>203041432</td>\n",
              "      <td>09/27/2019</td>\n",
              "      <td>20:03:00</td>\n",
              "      <td>QUEENS</td>\n",
              "      <td>101</td>\n",
              "      <td>2.0</td>\n",
              "      <td>MULTI DWELL - PUBLIC HOUS</td>\n",
              "      <td>True</td>\n",
              "      <td>NaN</td>\n",
              "      <td>NaN</td>\n",
              "      <td>NaN</td>\n",
              "      <td>25-44</td>\n",
              "      <td>M</td>\n",
              "      <td>BLACK</td>\n",
              "      <td>1047439</td>\n",
              "      <td>156663</td>\n",
              "      <td>40.596463</td>\n",
              "      <td>-73.772466</td>\n",
              "    </tr>\n",
              "    <tr>\n",
              "      <th>15</th>\n",
              "      <td>203041428</td>\n",
              "      <td>09/26/2019</td>\n",
              "      <td>19:00:00</td>\n",
              "      <td>BROOKLYN</td>\n",
              "      <td>84</td>\n",
              "      <td>0.0</td>\n",
              "      <td>NaN</td>\n",
              "      <td>False</td>\n",
              "      <td>NaN</td>\n",
              "      <td>NaN</td>\n",
              "      <td>NaN</td>\n",
              "      <td>25-44</td>\n",
              "      <td>M</td>\n",
              "      <td>WHITE</td>\n",
              "      <td>988226</td>\n",
              "      <td>192253</td>\n",
              "      <td>40.694374</td>\n",
              "      <td>-73.985663</td>\n",
              "    </tr>\n",
              "    <tr>\n",
              "      <th>16</th>\n",
              "      <td>202944931</td>\n",
              "      <td>09/26/2019</td>\n",
              "      <td>14:00:00</td>\n",
              "      <td>MANHATTAN</td>\n",
              "      <td>25</td>\n",
              "      <td>0.0</td>\n",
              "      <td>NaN</td>\n",
              "      <td>False</td>\n",
              "      <td>NaN</td>\n",
              "      <td>NaN</td>\n",
              "      <td>NaN</td>\n",
              "      <td>25-44</td>\n",
              "      <td>M</td>\n",
              "      <td>BLACK</td>\n",
              "      <td>999155</td>\n",
              "      <td>230606</td>\n",
              "      <td>40.799632</td>\n",
              "      <td>-73.946167</td>\n",
              "    </tr>\n",
              "    <tr>\n",
              "      <th>17</th>\n",
              "      <td>202944932</td>\n",
              "      <td>09/26/2019</td>\n",
              "      <td>02:30:00</td>\n",
              "      <td>BRONX</td>\n",
              "      <td>40</td>\n",
              "      <td>2.0</td>\n",
              "      <td>MULTI DWELL - PUBLIC HOUS</td>\n",
              "      <td>False</td>\n",
              "      <td>25-44</td>\n",
              "      <td>F</td>\n",
              "      <td>BLACK HISPANIC</td>\n",
              "      <td>25-44</td>\n",
              "      <td>M</td>\n",
              "      <td>BLACK</td>\n",
              "      <td>1005170</td>\n",
              "      <td>235308</td>\n",
              "      <td>40.812525</td>\n",
              "      <td>-73.924427</td>\n",
              "    </tr>\n",
              "    <tr>\n",
              "      <th>18</th>\n",
              "      <td>202900139</td>\n",
              "      <td>09/25/2019</td>\n",
              "      <td>19:15:00</td>\n",
              "      <td>BROOKLYN</td>\n",
              "      <td>69</td>\n",
              "      <td>0.0</td>\n",
              "      <td>NaN</td>\n",
              "      <td>False</td>\n",
              "      <td>NaN</td>\n",
              "      <td>NaN</td>\n",
              "      <td>NaN</td>\n",
              "      <td>18-24</td>\n",
              "      <td>M</td>\n",
              "      <td>BLACK</td>\n",
              "      <td>1014030</td>\n",
              "      <td>174239</td>\n",
              "      <td>40.644881</td>\n",
              "      <td>-73.892690</td>\n",
              "    </tr>\n",
              "    <tr>\n",
              "      <th>19</th>\n",
              "      <td>202855057</td>\n",
              "      <td>09/24/2019</td>\n",
              "      <td>22:51:00</td>\n",
              "      <td>BROOKLYN</td>\n",
              "      <td>71</td>\n",
              "      <td>0.0</td>\n",
              "      <td>NaN</td>\n",
              "      <td>False</td>\n",
              "      <td>NaN</td>\n",
              "      <td>NaN</td>\n",
              "      <td>NaN</td>\n",
              "      <td>45-64</td>\n",
              "      <td>F</td>\n",
              "      <td>BLACK</td>\n",
              "      <td>997631</td>\n",
              "      <td>178916</td>\n",
              "      <td>40.657758</td>\n",
              "      <td>-73.951774</td>\n",
              "    </tr>\n",
              "    <tr>\n",
              "      <th>20</th>\n",
              "      <td>202853370</td>\n",
              "      <td>09/24/2019</td>\n",
              "      <td>21:00:00</td>\n",
              "      <td>BRONX</td>\n",
              "      <td>42</td>\n",
              "      <td>0.0</td>\n",
              "      <td>NaN</td>\n",
              "      <td>False</td>\n",
              "      <td>25-44</td>\n",
              "      <td>M</td>\n",
              "      <td>UNKNOWN</td>\n",
              "      <td>25-44</td>\n",
              "      <td>M</td>\n",
              "      <td>BLACK</td>\n",
              "      <td>1014493</td>\n",
              "      <td>242565</td>\n",
              "      <td>40.832417</td>\n",
              "      <td>-73.890714</td>\n",
              "    </tr>\n",
              "  </tbody>\n",
              "</table>\n",
              "</div>"
            ],
            "text/plain": [
              "    INCIDENT_KEY  OCCUR_DATE OCCUR_TIME  ... Y_COORD_CD   Latitude  Longitude\n",
              "0      203083804  09/30/2019   13:49:00  ...     230618  40.799665 -73.947200\n",
              "1      203083804  09/30/2019   13:49:00  ...     230618  40.799665 -73.947200\n",
              "2      203041425  09/29/2019   23:15:00  ...     253614  40.862755 -73.904493\n",
              "3      203041429  09/29/2019   18:30:00  ...     165738  40.621571 -74.078043\n",
              "4      203041424  09/29/2019   00:35:00  ...     262287  40.886497 -73.845917\n",
              "5      203041430  09/28/2019   01:17:00  ...     244801  40.838559 -73.896606\n",
              "6      203042901  09/27/2019   23:29:00  ...     183993  40.671635 -73.874428\n",
              "7      203041427  09/27/2019   21:45:00  ...     155661  40.593685 -73.759070\n",
              "8      203041423  09/27/2019   20:40:00  ...     182526  40.667630 -73.896254\n",
              "9      203041423  09/27/2019   20:40:00  ...     182526  40.667630 -73.896254\n",
              "10     203041423  09/27/2019   20:40:00  ...     182526  40.667630 -73.896254\n",
              "11     203041432  09/27/2019   20:03:00  ...     156663  40.596463 -73.772466\n",
              "12     203041432  09/27/2019   20:03:00  ...     156663  40.596463 -73.772466\n",
              "13     203041432  09/27/2019   20:03:00  ...     156663  40.596463 -73.772466\n",
              "14     203041432  09/27/2019   20:03:00  ...     156663  40.596463 -73.772466\n",
              "15     203041428  09/26/2019   19:00:00  ...     192253  40.694374 -73.985663\n",
              "16     202944931  09/26/2019   14:00:00  ...     230606  40.799632 -73.946167\n",
              "17     202944932  09/26/2019   02:30:00  ...     235308  40.812525 -73.924427\n",
              "18     202900139  09/25/2019   19:15:00  ...     174239  40.644881 -73.892690\n",
              "19     202855057  09/24/2019   22:51:00  ...     178916  40.657758 -73.951774\n",
              "20     202853370  09/24/2019   21:00:00  ...     242565  40.832417 -73.890714\n",
              "\n",
              "[21 rows x 18 columns]"
            ]
          },
          "metadata": {
            "tags": []
          },
          "execution_count": 3
        }
      ]
    },
    {
      "cell_type": "code",
      "metadata": {
        "id": "1t5hue8Hb7HM",
        "colab_type": "code",
        "outputId": "4a83ed61-d90a-4df5-f619-f053d592a85a",
        "colab": {
          "base_uri": "https://localhost:8080/",
          "height": 609
        }
      },
      "source": [
        "data1 =data.dropna(subset = ['INCIDENT_KEY','OCCUR_DATE','OCCUR_TIME','BORO','PRECINCT','JURISDICTION_CODE','LOCATION_DESC','STATISTICAL_MURDER_FLAG','PERP_AGE_GROUP','PERP_SEX','PERP_RACE','VIC_AGE_GROUP','VIC_SEX','VIC_RACE','X_COORD_CD','Y_COORD_CD','Latitude','Longitude'])\n",
        "data1.head(100)"
      ],
      "execution_count": 0,
      "outputs": [
        {
          "output_type": "execute_result",
          "data": {
            "text/html": [
              "<div>\n",
              "<style scoped>\n",
              "    .dataframe tbody tr th:only-of-type {\n",
              "        vertical-align: middle;\n",
              "    }\n",
              "\n",
              "    .dataframe tbody tr th {\n",
              "        vertical-align: top;\n",
              "    }\n",
              "\n",
              "    .dataframe thead th {\n",
              "        text-align: right;\n",
              "    }\n",
              "</style>\n",
              "<table border=\"1\" class=\"dataframe\">\n",
              "  <thead>\n",
              "    <tr style=\"text-align: right;\">\n",
              "      <th></th>\n",
              "      <th>INCIDENT_KEY</th>\n",
              "      <th>OCCUR_DATE</th>\n",
              "      <th>OCCUR_TIME</th>\n",
              "      <th>BORO</th>\n",
              "      <th>PRECINCT</th>\n",
              "      <th>JURISDICTION_CODE</th>\n",
              "      <th>LOCATION_DESC</th>\n",
              "      <th>STATISTICAL_MURDER_FLAG</th>\n",
              "      <th>PERP_AGE_GROUP</th>\n",
              "      <th>PERP_SEX</th>\n",
              "      <th>PERP_RACE</th>\n",
              "      <th>VIC_AGE_GROUP</th>\n",
              "      <th>VIC_SEX</th>\n",
              "      <th>VIC_RACE</th>\n",
              "      <th>X_COORD_CD</th>\n",
              "      <th>Y_COORD_CD</th>\n",
              "      <th>Latitude</th>\n",
              "      <th>Longitude</th>\n",
              "    </tr>\n",
              "  </thead>\n",
              "  <tbody>\n",
              "    <tr>\n",
              "      <th>0</th>\n",
              "      <td>203083804</td>\n",
              "      <td>09/30/2019</td>\n",
              "      <td>13:49:00</td>\n",
              "      <td>MANHATTAN</td>\n",
              "      <td>23</td>\n",
              "      <td>2.0</td>\n",
              "      <td>MULTI DWELL - PUBLIC HOUS</td>\n",
              "      <td>False</td>\n",
              "      <td>18-24</td>\n",
              "      <td>M</td>\n",
              "      <td>BLACK</td>\n",
              "      <td>18-24</td>\n",
              "      <td>M</td>\n",
              "      <td>BLACK</td>\n",
              "      <td>998869</td>\n",
              "      <td>230618</td>\n",
              "      <td>40.799665</td>\n",
              "      <td>-73.947200</td>\n",
              "    </tr>\n",
              "    <tr>\n",
              "      <th>1</th>\n",
              "      <td>203083804</td>\n",
              "      <td>09/30/2019</td>\n",
              "      <td>13:49:00</td>\n",
              "      <td>MANHATTAN</td>\n",
              "      <td>23</td>\n",
              "      <td>2.0</td>\n",
              "      <td>MULTI DWELL - PUBLIC HOUS</td>\n",
              "      <td>True</td>\n",
              "      <td>18-24</td>\n",
              "      <td>M</td>\n",
              "      <td>BLACK</td>\n",
              "      <td>18-24</td>\n",
              "      <td>M</td>\n",
              "      <td>BLACK</td>\n",
              "      <td>998869</td>\n",
              "      <td>230618</td>\n",
              "      <td>40.799665</td>\n",
              "      <td>-73.947200</td>\n",
              "    </tr>\n",
              "    <tr>\n",
              "      <th>4</th>\n",
              "      <td>203041424</td>\n",
              "      <td>09/29/2019</td>\n",
              "      <td>00:35:00</td>\n",
              "      <td>BRONX</td>\n",
              "      <td>47</td>\n",
              "      <td>2.0</td>\n",
              "      <td>MULTI DWELL - PUBLIC HOUS</td>\n",
              "      <td>True</td>\n",
              "      <td>25-44</td>\n",
              "      <td>M</td>\n",
              "      <td>BLACK</td>\n",
              "      <td>25-44</td>\n",
              "      <td>M</td>\n",
              "      <td>WHITE</td>\n",
              "      <td>1026855</td>\n",
              "      <td>262287</td>\n",
              "      <td>40.886497</td>\n",
              "      <td>-73.845917</td>\n",
              "    </tr>\n",
              "    <tr>\n",
              "      <th>17</th>\n",
              "      <td>202944932</td>\n",
              "      <td>09/26/2019</td>\n",
              "      <td>02:30:00</td>\n",
              "      <td>BRONX</td>\n",
              "      <td>40</td>\n",
              "      <td>2.0</td>\n",
              "      <td>MULTI DWELL - PUBLIC HOUS</td>\n",
              "      <td>False</td>\n",
              "      <td>25-44</td>\n",
              "      <td>F</td>\n",
              "      <td>BLACK HISPANIC</td>\n",
              "      <td>25-44</td>\n",
              "      <td>M</td>\n",
              "      <td>BLACK</td>\n",
              "      <td>1005170</td>\n",
              "      <td>235308</td>\n",
              "      <td>40.812525</td>\n",
              "      <td>-73.924427</td>\n",
              "    </tr>\n",
              "    <tr>\n",
              "      <th>21</th>\n",
              "      <td>202853371</td>\n",
              "      <td>09/24/2019</td>\n",
              "      <td>17:45:00</td>\n",
              "      <td>BROOKLYN</td>\n",
              "      <td>73</td>\n",
              "      <td>2.0</td>\n",
              "      <td>MULTI DWELL - PUBLIC HOUS</td>\n",
              "      <td>False</td>\n",
              "      <td>18-24</td>\n",
              "      <td>M</td>\n",
              "      <td>BLACK</td>\n",
              "      <td>18-24</td>\n",
              "      <td>M</td>\n",
              "      <td>BLACK</td>\n",
              "      <td>1006117</td>\n",
              "      <td>183402</td>\n",
              "      <td>40.670054</td>\n",
              "      <td>-73.921175</td>\n",
              "    </tr>\n",
              "    <tr>\n",
              "      <th>...</th>\n",
              "      <td>...</td>\n",
              "      <td>...</td>\n",
              "      <td>...</td>\n",
              "      <td>...</td>\n",
              "      <td>...</td>\n",
              "      <td>...</td>\n",
              "      <td>...</td>\n",
              "      <td>...</td>\n",
              "      <td>...</td>\n",
              "      <td>...</td>\n",
              "      <td>...</td>\n",
              "      <td>...</td>\n",
              "      <td>...</td>\n",
              "      <td>...</td>\n",
              "      <td>...</td>\n",
              "      <td>...</td>\n",
              "      <td>...</td>\n",
              "      <td>...</td>\n",
              "    </tr>\n",
              "    <tr>\n",
              "      <th>495</th>\n",
              "      <td>196630584</td>\n",
              "      <td>04/30/2019</td>\n",
              "      <td>18:29:00</td>\n",
              "      <td>MANHATTAN</td>\n",
              "      <td>25</td>\n",
              "      <td>2.0</td>\n",
              "      <td>MULTI DWELL - PUBLIC HOUS</td>\n",
              "      <td>False</td>\n",
              "      <td>25-44</td>\n",
              "      <td>U</td>\n",
              "      <td>BLACK</td>\n",
              "      <td>18-24</td>\n",
              "      <td>M</td>\n",
              "      <td>BLACK</td>\n",
              "      <td>1002228</td>\n",
              "      <td>234677</td>\n",
              "      <td>40.810800</td>\n",
              "      <td>-73.935057</td>\n",
              "    </tr>\n",
              "    <tr>\n",
              "      <th>499</th>\n",
              "      <td>196525187</td>\n",
              "      <td>04/27/2019</td>\n",
              "      <td>11:36:00</td>\n",
              "      <td>BRONX</td>\n",
              "      <td>48</td>\n",
              "      <td>0.0</td>\n",
              "      <td>MULTI DWELL - APT BUILD</td>\n",
              "      <td>True</td>\n",
              "      <td>25-44</td>\n",
              "      <td>M</td>\n",
              "      <td>BLACK</td>\n",
              "      <td>18-24</td>\n",
              "      <td>M</td>\n",
              "      <td>BLACK HISPANIC</td>\n",
              "      <td>1013952</td>\n",
              "      <td>247178</td>\n",
              "      <td>40.845080</td>\n",
              "      <td>-73.892649</td>\n",
              "    </tr>\n",
              "    <tr>\n",
              "      <th>507</th>\n",
              "      <td>196315234</td>\n",
              "      <td>04/22/2019</td>\n",
              "      <td>17:20:00</td>\n",
              "      <td>BROOKLYN</td>\n",
              "      <td>81</td>\n",
              "      <td>0.0</td>\n",
              "      <td>MULTI DWELL - APT BUILD</td>\n",
              "      <td>False</td>\n",
              "      <td>65+</td>\n",
              "      <td>M</td>\n",
              "      <td>BLACK</td>\n",
              "      <td>45-64</td>\n",
              "      <td>M</td>\n",
              "      <td>BLACK</td>\n",
              "      <td>1006938</td>\n",
              "      <td>187372</td>\n",
              "      <td>40.680949</td>\n",
              "      <td>-73.918202</td>\n",
              "    </tr>\n",
              "    <tr>\n",
              "      <th>510</th>\n",
              "      <td>196276904</td>\n",
              "      <td>04/20/2019</td>\n",
              "      <td>01:19:00</td>\n",
              "      <td>BROOKLYN</td>\n",
              "      <td>84</td>\n",
              "      <td>2.0</td>\n",
              "      <td>MULTI DWELL - PUBLIC HOUS</td>\n",
              "      <td>False</td>\n",
              "      <td>25-44</td>\n",
              "      <td>M</td>\n",
              "      <td>BLACK</td>\n",
              "      <td>25-44</td>\n",
              "      <td>M</td>\n",
              "      <td>BLACK</td>\n",
              "      <td>988740</td>\n",
              "      <td>194815</td>\n",
              "      <td>40.701406</td>\n",
              "      <td>-73.983808</td>\n",
              "    </tr>\n",
              "    <tr>\n",
              "      <th>520</th>\n",
              "      <td>196193413</td>\n",
              "      <td>04/18/2019</td>\n",
              "      <td>13:53:00</td>\n",
              "      <td>QUEENS</td>\n",
              "      <td>108</td>\n",
              "      <td>0.0</td>\n",
              "      <td>DRUG STORE</td>\n",
              "      <td>False</td>\n",
              "      <td>25-44</td>\n",
              "      <td>M</td>\n",
              "      <td>WHITE HISPANIC</td>\n",
              "      <td>25-44</td>\n",
              "      <td>M</td>\n",
              "      <td>WHITE</td>\n",
              "      <td>1007610</td>\n",
              "      <td>211185</td>\n",
              "      <td>40.746308</td>\n",
              "      <td>-73.915696</td>\n",
              "    </tr>\n",
              "  </tbody>\n",
              "</table>\n",
              "<p>100 rows × 18 columns</p>\n",
              "</div>"
            ],
            "text/plain": [
              "     INCIDENT_KEY  OCCUR_DATE OCCUR_TIME  ... Y_COORD_CD   Latitude  Longitude\n",
              "0       203083804  09/30/2019   13:49:00  ...     230618  40.799665 -73.947200\n",
              "1       203083804  09/30/2019   13:49:00  ...     230618  40.799665 -73.947200\n",
              "4       203041424  09/29/2019   00:35:00  ...     262287  40.886497 -73.845917\n",
              "17      202944932  09/26/2019   02:30:00  ...     235308  40.812525 -73.924427\n",
              "21      202853371  09/24/2019   17:45:00  ...     183402  40.670054 -73.921175\n",
              "..            ...         ...        ...  ...        ...        ...        ...\n",
              "495     196630584  04/30/2019   18:29:00  ...     234677  40.810800 -73.935057\n",
              "499     196525187  04/27/2019   11:36:00  ...     247178  40.845080 -73.892649\n",
              "507     196315234  04/22/2019   17:20:00  ...     187372  40.680949 -73.918202\n",
              "510     196276904  04/20/2019   01:19:00  ...     194815  40.701406 -73.983808\n",
              "520     196193413  04/18/2019   13:53:00  ...     211185  40.746308 -73.915696\n",
              "\n",
              "[100 rows x 18 columns]"
            ]
          },
          "metadata": {
            "tags": []
          },
          "execution_count": 4
        }
      ]
    },
    {
      "cell_type": "code",
      "metadata": {
        "id": "ykXxWzJsVSTB",
        "colab_type": "code",
        "outputId": "ae31b731-2c4c-4f4b-fe5e-33a4a87c1ce7",
        "colab": {
          "base_uri": "https://localhost:8080/",
          "height": 297
        }
      },
      "source": [
        "# Look at statistics of numerical features\n",
        "data.describe()"
      ],
      "execution_count": 0,
      "outputs": [
        {
          "output_type": "execute_result",
          "data": {
            "text/html": [
              "<div>\n",
              "<style scoped>\n",
              "    .dataframe tbody tr th:only-of-type {\n",
              "        vertical-align: middle;\n",
              "    }\n",
              "\n",
              "    .dataframe tbody tr th {\n",
              "        vertical-align: top;\n",
              "    }\n",
              "\n",
              "    .dataframe thead th {\n",
              "        text-align: right;\n",
              "    }\n",
              "</style>\n",
              "<table border=\"1\" class=\"dataframe\">\n",
              "  <thead>\n",
              "    <tr style=\"text-align: right;\">\n",
              "      <th></th>\n",
              "      <th>INCIDENT_KEY</th>\n",
              "      <th>PRECINCT</th>\n",
              "      <th>JURISDICTION_CODE</th>\n",
              "      <th>X_COORD_CD</th>\n",
              "      <th>Y_COORD_CD</th>\n",
              "      <th>Latitude</th>\n",
              "      <th>Longitude</th>\n",
              "    </tr>\n",
              "  </thead>\n",
              "  <tbody>\n",
              "    <tr>\n",
              "      <th>count</th>\n",
              "      <td>7.490000e+02</td>\n",
              "      <td>749.000000</td>\n",
              "      <td>748.000000</td>\n",
              "      <td>7.490000e+02</td>\n",
              "      <td>749.000000</td>\n",
              "      <td>749.000000</td>\n",
              "      <td>749.000000</td>\n",
              "    </tr>\n",
              "    <tr>\n",
              "      <th>mean</th>\n",
              "      <td>1.980070e+08</td>\n",
              "      <td>65.907877</td>\n",
              "      <td>0.430481</td>\n",
              "      <td>1.010338e+06</td>\n",
              "      <td>208237.809079</td>\n",
              "      <td>40.738192</td>\n",
              "      <td>-73.905857</td>\n",
              "    </tr>\n",
              "    <tr>\n",
              "      <th>std</th>\n",
              "      <td>3.162255e+06</td>\n",
              "      <td>28.495253</td>\n",
              "      <td>0.819267</td>\n",
              "      <td>1.795087e+04</td>\n",
              "      <td>31100.912145</td>\n",
              "      <td>0.085373</td>\n",
              "      <td>0.064725</td>\n",
              "    </tr>\n",
              "    <tr>\n",
              "      <th>min</th>\n",
              "      <td>1.917100e+08</td>\n",
              "      <td>1.000000</td>\n",
              "      <td>0.000000</td>\n",
              "      <td>9.367220e+05</td>\n",
              "      <td>148311.000000</td>\n",
              "      <td>40.573763</td>\n",
              "      <td>-74.171252</td>\n",
              "    </tr>\n",
              "    <tr>\n",
              "      <th>25%</th>\n",
              "      <td>1.953973e+08</td>\n",
              "      <td>43.000000</td>\n",
              "      <td>0.000000</td>\n",
              "      <td>1.000486e+06</td>\n",
              "      <td>183148.000000</td>\n",
              "      <td>40.669310</td>\n",
              "      <td>-73.941409</td>\n",
              "    </tr>\n",
              "    <tr>\n",
              "      <th>50%</th>\n",
              "      <td>1.982555e+08</td>\n",
              "      <td>69.000000</td>\n",
              "      <td>0.000000</td>\n",
              "      <td>1.008224e+06</td>\n",
              "      <td>195411.000000</td>\n",
              "      <td>40.702846</td>\n",
              "      <td>-73.913563</td>\n",
              "    </tr>\n",
              "    <tr>\n",
              "      <th>75%</th>\n",
              "      <td>2.006683e+08</td>\n",
              "      <td>81.000000</td>\n",
              "      <td>0.000000</td>\n",
              "      <td>1.017307e+06</td>\n",
              "      <td>238673.000000</td>\n",
              "      <td>40.821736</td>\n",
              "      <td>-73.880844</td>\n",
              "    </tr>\n",
              "    <tr>\n",
              "      <th>max</th>\n",
              "      <td>2.030838e+08</td>\n",
              "      <td>122.000000</td>\n",
              "      <td>2.000000</td>\n",
              "      <td>1.058211e+06</td>\n",
              "      <td>263946.000000</td>\n",
              "      <td>40.891040</td>\n",
              "      <td>-73.733248</td>\n",
              "    </tr>\n",
              "  </tbody>\n",
              "</table>\n",
              "</div>"
            ],
            "text/plain": [
              "       INCIDENT_KEY    PRECINCT  ...    Latitude   Longitude\n",
              "count  7.490000e+02  749.000000  ...  749.000000  749.000000\n",
              "mean   1.980070e+08   65.907877  ...   40.738192  -73.905857\n",
              "std    3.162255e+06   28.495253  ...    0.085373    0.064725\n",
              "min    1.917100e+08    1.000000  ...   40.573763  -74.171252\n",
              "25%    1.953973e+08   43.000000  ...   40.669310  -73.941409\n",
              "50%    1.982555e+08   69.000000  ...   40.702846  -73.913563\n",
              "75%    2.006683e+08   81.000000  ...   40.821736  -73.880844\n",
              "max    2.030838e+08  122.000000  ...   40.891040  -73.733248\n",
              "\n",
              "[8 rows x 7 columns]"
            ]
          },
          "metadata": {
            "tags": []
          },
          "execution_count": 5
        }
      ]
    },
    {
      "cell_type": "code",
      "metadata": {
        "id": "PgdlxffVbpUO",
        "colab_type": "code",
        "outputId": "05fa59e3-4cfa-46d4-9547-6ff19708a9d1",
        "colab": {
          "base_uri": "https://localhost:8080/",
          "height": 119
        }
      },
      "source": [
        "\n",
        "data1['LOCATION_DESC'] = data1['LOCATION_DESC'].astype('|S')"
      ],
      "execution_count": 0,
      "outputs": [
        {
          "output_type": "stream",
          "text": [
            "/usr/local/lib/python3.6/dist-packages/ipykernel_launcher.py:2: SettingWithCopyWarning: \n",
            "A value is trying to be set on a copy of a slice from a DataFrame.\n",
            "Try using .loc[row_indexer,col_indexer] = value instead\n",
            "\n",
            "See the caveats in the documentation: http://pandas.pydata.org/pandas-docs/stable/user_guide/indexing.html#returning-a-view-versus-a-copy\n",
            "  \n"
          ],
          "name": "stderr"
        }
      ]
    },
    {
      "cell_type": "code",
      "metadata": {
        "id": "QzOCtspTILxM",
        "colab_type": "code",
        "outputId": "65b921e5-7377-453c-fe5c-d71eb2629510",
        "colab": {
          "base_uri": "https://localhost:8080/",
          "height": 119
        }
      },
      "source": [
        "data1['BORO'] = data1['BORO'].astype('|S')\n"
      ],
      "execution_count": 0,
      "outputs": [
        {
          "output_type": "stream",
          "text": [
            "/usr/local/lib/python3.6/dist-packages/ipykernel_launcher.py:1: SettingWithCopyWarning: \n",
            "A value is trying to be set on a copy of a slice from a DataFrame.\n",
            "Try using .loc[row_indexer,col_indexer] = value instead\n",
            "\n",
            "See the caveats in the documentation: http://pandas.pydata.org/pandas-docs/stable/user_guide/indexing.html#returning-a-view-versus-a-copy\n",
            "  \"\"\"Entry point for launching an IPython kernel.\n"
          ],
          "name": "stderr"
        }
      ]
    },
    {
      "cell_type": "code",
      "metadata": {
        "id": "27wdNo0lQ-LV",
        "colab_type": "code",
        "outputId": "aa373a62-1c26-4371-8c81-1c7b8f500481",
        "colab": {
          "base_uri": "https://localhost:8080/",
          "height": 119
        }
      },
      "source": [
        "data1['OCCUR_DATE'] = pd.to_datetime(data1['OCCUR_DATE'])"
      ],
      "execution_count": 0,
      "outputs": [
        {
          "output_type": "stream",
          "text": [
            "/usr/local/lib/python3.6/dist-packages/ipykernel_launcher.py:1: SettingWithCopyWarning: \n",
            "A value is trying to be set on a copy of a slice from a DataFrame.\n",
            "Try using .loc[row_indexer,col_indexer] = value instead\n",
            "\n",
            "See the caveats in the documentation: http://pandas.pydata.org/pandas-docs/stable/user_guide/indexing.html#returning-a-view-versus-a-copy\n",
            "  \"\"\"Entry point for launching an IPython kernel.\n"
          ],
          "name": "stderr"
        }
      ]
    },
    {
      "cell_type": "code",
      "metadata": {
        "id": "QWw3OCmdS2dc",
        "colab_type": "code",
        "outputId": "b8f7aadb-f0d7-439c-8f38-a282ef7ab6aa",
        "colab": {
          "base_uri": "https://localhost:8080/",
          "height": 119
        }
      },
      "source": [
        "data1['OCCUR_TIME'] = pd.to_datetime(data1['OCCUR_TIME'])"
      ],
      "execution_count": 0,
      "outputs": [
        {
          "output_type": "stream",
          "text": [
            "/usr/local/lib/python3.6/dist-packages/ipykernel_launcher.py:1: SettingWithCopyWarning: \n",
            "A value is trying to be set on a copy of a slice from a DataFrame.\n",
            "Try using .loc[row_indexer,col_indexer] = value instead\n",
            "\n",
            "See the caveats in the documentation: http://pandas.pydata.org/pandas-docs/stable/user_guide/indexing.html#returning-a-view-versus-a-copy\n",
            "  \"\"\"Entry point for launching an IPython kernel.\n"
          ],
          "name": "stderr"
        }
      ]
    },
    {
      "cell_type": "markdown",
      "metadata": {
        "id": "9dabjdXEIV4c",
        "colab_type": "text"
      },
      "source": [
        ""
      ]
    },
    {
      "cell_type": "code",
      "metadata": {
        "id": "IYMC4AQ2GrvU",
        "colab_type": "code",
        "outputId": "c674a707-a815-4f73-84af-6e19e7bb4b32",
        "colab": {
          "base_uri": "https://localhost:8080/",
          "height": 340
        }
      },
      "source": [
        "#types of the columns \n",
        "types = data1.dtypes\n",
        "\n",
        "print(types)"
      ],
      "execution_count": 0,
      "outputs": [
        {
          "output_type": "stream",
          "text": [
            "INCIDENT_KEY                        int64\n",
            "OCCUR_DATE                 datetime64[ns]\n",
            "OCCUR_TIME                 datetime64[ns]\n",
            "BORO                               object\n",
            "PRECINCT                            int64\n",
            "JURISDICTION_CODE                 float64\n",
            "LOCATION_DESC                      object\n",
            "STATISTICAL_MURDER_FLAG              bool\n",
            "PERP_AGE_GROUP                     object\n",
            "PERP_SEX                           object\n",
            "PERP_RACE                          object\n",
            "VIC_AGE_GROUP                      object\n",
            "VIC_SEX                            object\n",
            "VIC_RACE                           object\n",
            "X_COORD_CD                          int64\n",
            "Y_COORD_CD                          int64\n",
            "Latitude                          float64\n",
            "Longitude                         float64\n",
            "dtype: object\n"
          ],
          "name": "stdout"
        }
      ]
    },
    {
      "cell_type": "code",
      "metadata": {
        "id": "sOSX4tZuYPLJ",
        "colab_type": "code",
        "outputId": "c6afedf4-9d8d-4d42-a9d7-460f8ae83003",
        "colab": {
          "base_uri": "https://localhost:8080/",
          "height": 282
        }
      },
      "source": [
        "plt.scatter(data['X_COORD_CD'], data['Y_COORD_CD'])"
      ],
      "execution_count": 0,
      "outputs": [
        {
          "output_type": "execute_result",
          "data": {
            "text/plain": [
              "<matplotlib.collections.PathCollection at 0x7f6c0abc0588>"
            ]
          },
          "metadata": {
            "tags": []
          },
          "execution_count": 11
        },
        {
          "output_type": "display_data",
          "data": {
            "image/png": "[encoded data removed]",
            "text/plain": [
              "<Figure size 432x288 with 1 Axes>"
            ]
          },
          "metadata": {
            "tags": []
          }
        }
      ]
    },
    {
      "cell_type": "code",
      "metadata": {
        "id": "CLf8mK20b7HR",
        "colab_type": "code",
        "outputId": "844f6ed4-06ae-4be3-a4e2-8020eb5e8878",
        "colab": {
          "base_uri": "https://localhost:8080/",
          "height": 613
        }
      },
      "source": [
        "#Highlighted areas are area with crimes\n",
        "plt.figure(figsize=(10, 10))\n",
        "plt.plot(data['Longitude'], data['Latitude'],\n",
        "         \n",
        "         'r.',\n",
        "         alpha=1.)\n",
        "plt.xlim(-74.05, -73.75)\n",
        "plt.ylim(40.6, 40.9) "
      ],
      "execution_count": 0,
      "outputs": [
        {
          "output_type": "execute_result",
          "data": {
            "text/plain": [
              "(40.6, 40.9)"
            ]
          },
          "metadata": {
            "tags": []
          },
          "execution_count": 12
        },
        {
          "output_type": "display_data",
          "data": {
            "image/png": "[encoded data removed]",
            "text/plain": [
              "<Figure size 720x720 with 1 Axes>"
            ]
          },
          "metadata": {
            "tags": []
          }
        }
      ]
    },
    {
      "cell_type": "code",
      "metadata": {
        "id": "Mv2UEYZtb7HU",
        "colab_type": "code",
        "colab": {}
      },
      "source": [
        "def generateBaseMap(default_location=[40.693943, -73.985880], default_zoom_start=10):\n",
        "    base_map = folium.Map(location=default_location, control_scale=True, zoom_start=default_zoom_start)\n",
        "    return base_map"
      ],
      "execution_count": 0,
      "outputs": []
    },
    {
      "cell_type": "code",
      "metadata": {
        "scrolled": true,
        "id": "ZwdYW7Qlb7HW",
        "colab_type": "code",
        "colab": {}
      },
      "source": [
        "base_map =generateBaseMap()"
      ],
      "execution_count": 0,
      "outputs": []
    },
    {
      "cell_type": "code",
      "metadata": {
        "id": "p6kKqW3hb7HY",
        "colab_type": "code",
        "outputId": "51ca1a0c-cc47-465f-a994-abf144e393aa",
        "colab": {
          "base_uri": "https://localhost:8080/",
          "height": 34
        }
      },
      "source": [
        "from folium.plugins import HeatMap\n",
        "base_map = generateBaseMap()\n",
        "HeatMap(data[['Latitude', 'Longitude']].groupby(['Latitude', 'Longitude']).sum().reset_index().values.tolist(), radius=8, max_zoom=13).add_to(base_map)"
      ],
      "execution_count": 0,
      "outputs": [
        {
          "output_type": "execute_result",
          "data": {
            "text/plain": [
              "<folium.plugins.heat_map.HeatMap at 0x7f6c07ec3208>"
            ]
          },
          "metadata": {
            "tags": []
          },
          "execution_count": 15
        }
      ]
    },
    {
      "cell_type": "code",
      "metadata": {
        "id": "FgG57Infb7Hb",
        "colab_type": "code",
        "outputId": "c05420e7-ed89-45fa-a6b8-79d8338b8f7c",
        "colab": {
          "base_uri": "https://localhost:8080/",
          "height": 799
        }
      },
      "source": [
        "#Highlighted areas are area with crimes\n",
        "base_map"
      ],
      "execution_count": 0,
      "outputs": [
        {
          "output_type": "execute_result",
          "data": {
            "text/html": [
              "<div style=\"width:100%;\"><div style=\"position:relative;width:100%;height:0;padding-bottom:60%;\"><iframe src=\"data:text/html;charset=utf-8;base64,PCFET0NUWVBFIGh0bWw+CjxoZWFkPiAgICAKICAgIDxtZXRhIGh0dHAtZXF1aXY9ImNvbnRlbnQtdHlwZSIgY29udGVudD0idGV4dC9odG1sOyBjaGFyc2V0PVVURi04IiAvPgogICAgPHNjcmlwdD5MX1BSRUZFUl9DQU5WQVM9ZmFsc2U7IExfTk9fVE9VQ0g9ZmFsc2U7IExfRElTQUJMRV8zRD1mYWxzZTs8L3NjcmlwdD4KICAgIDxzY3JpcHQgc3JjPSJodHRwczovL2Nkbi5qc2RlbGl2ci5uZXQvbnBtL2xlYWZsZXRAMS40LjAvZGlzdC9sZWFmbGV0LmpzIj48L3NjcmlwdD4KICAgIDxzY3JpcHQgc3JjPSJodHRwczovL2NvZGUuanF1ZXJ5LmNvbS9qcXVlcnktMS4xMi40Lm1pbi5qcyI+PC9zY3JpcHQ+CiAgICA8c2NyaXB0IHNyYz0iaHR0cHM6Ly9tYXhjZG4uYm9vdHN0cmFwY2RuLmNvbS9ib290c3RyYXAvMy4yLjAvanMvYm9vdHN0cmFwLm1pbi5qcyI+PC9zY3JpcHQ+CiAgICA8c2NyaXB0IHNyYz0iaHR0cHM6Ly9jZG5qcy5jbG91ZGZsYXJlLmNvbS9hamF4L2xpYnMvTGVhZmxldC5hd2Vzb21lLW1hcmtlcnMvMi4wLjIvbGVhZmxldC5hd2Vzb21lLW1hcmtlcnMuanMiPjwvc2NyaXB0PgogICAgPGxpbmsgcmVsPSJzdHlsZXNoZWV0IiBocmVmPSJodHRwczovL2Nkbi5qc2RlbGl2ci5uZXQvbnBtL2xlYWZsZXRAMS40LjAvZGlzdC9sZWFmbGV0LmNzcyIvPgogICAgPGxpbmsgcmVsPSJzdHlsZXNoZWV0IiBocmVmPSJodHRwczovL21heGNkbi5ib290c3RyYXBjZG4uY29tL2Jvb3RzdHJhcC8zLjIuMC9jc3MvYm9vdHN0cmFwLm1pbi5jc3MiLz4KICAgIDxsaW5rIHJlbD0ic3R5bGVzaGVldCIgaHJlZj0iaHR0cHM6Ly9tYXhjZG4uYm9vdHN0cmFwY2RuLmNvbS9ib290c3RyYXAvMy4yLjAvY3NzL2Jvb3RzdHJhcC10aGVtZS5taW4uY3NzIi8+CiAgICA8bGluayByZWw9InN0eWxlc2hlZXQiIGhyZWY9Imh0dHBzOi8vbWF4Y2RuLmJvb3RzdHJhcGNkbi5jb20vZm9udC1hd2Vzb21lLzQuNi4zL2Nzcy9mb250LWF3ZXNvbWUubWluLmNzcyIvPgogICAgPGxpbmsgcmVsPSJzdHlsZXNoZWV0IiBocmVmPSJodHRwczovL2NkbmpzLmNsb3VkZmxhcmUuY29tL2FqYXgvbGlicy9MZWFmbGV0LmF3ZXNvbWUtbWFya2Vycy8yLjAuMi9sZWFmbGV0LmF3ZXNvbWUtbWFya2Vycy5jc3MiLz4KICAgIDxsaW5rIHJlbD0ic3R5bGVzaGVldCIgaHJlZj0iaHR0cHM6Ly9yYXdjZG4uZ2l0aGFjay5jb20vcHl0aG9uLXZpc3VhbGl6YXRpb24vZm9saXVtL21hc3Rlci9mb2xpdW0vdGVtcGxhdGVzL2xlYWZsZXQuYXdlc29tZS5yb3RhdGUuY3NzIi8+CiAgICA8c3R5bGU+aHRtbCwgYm9keSB7d2lkdGg6IDEwMCU7aGVpZ2h0OiAxMDAlO21hcmdpbjogMDtwYWRkaW5nOiAwO308L3N0eWxlPgogICAgPHN0eWxlPiNtYXAge3Bvc2l0aW9uOmFic29sdXRlO3RvcDowO2JvdHRvbTowO3JpZ2h0OjA7bGVmdDowO308L3N0eWxlPgogICAgCiAgICA8bWV0YSBuYW1lPSJ2aWV3cG9ydCIgY29udGVudD0id2lkdGg9ZGV2aWNlLXdpZHRoLAogICAgICAgIGluaXRpYWwtc2NhbGU9MS4wLCBtYXhpbXVtLXNjYWxlPTEuMCwgdXNlci1zY2FsYWJsZT1ubyIgLz4KICAgIDxzdHlsZT4jbWFwX2RiYzdhNDc5Y2Y4MDQwNzViM2UwZjI3MTNmZWFlMWJmIHsKICAgICAgICBwb3NpdGlvbjogcmVsYXRpdmU7CiAgICAgICAgd2lkdGg6IDEwMC4wJTsKICAgICAgICBoZWlnaHQ6IDEwMC4wJTsKICAgICAgICBsZWZ0OiAwLjAlOwogICAgICAgIHRvcDogMC4wJTsKICAgICAgICB9CiAgICA8L3N0eWxlPgogICAgPHNjcmlwdCBzcmM9Imh0dHBzOi8vbGVhZmxldC5naXRodWIuaW8vTGVhZmxldC5oZWF0L2Rpc3QvbGVhZmxldC1oZWF0LmpzIj48L3NjcmlwdD4KPC9oZWFkPgo8Ym9keT4gICAgCiAgICAKICAgIDxkaXYgY2xhc3M9ImZvbGl1bS1tYXAiIGlkPSJtYXBfZGJjN2E0NzljZjgwNDA3NWIzZTBmMjcxM2ZlYWUxYmYiID48L2Rpdj4KPC9ib2R5Pgo8c2NyaXB0PiAgICAKICAgIAogICAgCiAgICAgICAgdmFyIGJvdW5kcyA9IG51bGw7CiAgICAKCiAgICB2YXIgbWFwX2RiYzdhNDc5Y2Y4MDQwNzViM2UwZjI3MTNmZWFlMWJmID0gTC5tYXAoCiAgICAgICAgJ21hcF9kYmM3YTQ3OWNmODA0MDc1YjNlMGYyNzEzZmVhZTFiZicsIHsKICAgICAgICBjZW50ZXI6IFs0MC42OTM5NDMsIC03My45ODU4OF0sCiAgICAgICAgem9vbTogMTAsCiAgICAgICAgbWF4Qm91bmRzOiBib3VuZHMsCiAgICAgICAgbGF5ZXJzOiBbXSwKICAgICAgICB3b3JsZENvcHlKdW1wOiBmYWxzZSwKICAgICAgICBjcnM6IEwuQ1JTLkVQU0czODU3LAogICAgICAgIHpvb21Db250cm9sOiB0cnVlLAogICAgICAgIH0pOwpMLmNvbnRyb2wuc2NhbGUoKS5hZGRUbyhtYXBfZGJjN2E0NzljZjgwNDA3NWIzZTBmMjcxM2ZlYWUxYmYpOwoKICAgIAogICAgdmFyIHRpbGVfbGF5ZXJfZWFhMTc0OWM3Njc1NDlmNTkzYzQzOThkNzM2MzQ5N2QgPSBMLnRpbGVMYXllcigKICAgICAgICAnaHR0cHM6Ly97c30udGlsZS5vcGVuc3RyZWV0bWFwLm9yZy97en0ve3h9L3t5fS5wbmcnLAogICAgICAgIHsKICAgICAgICAiYXR0cmlidXRpb24iOiBudWxsLAogICAgICAgICJkZXRlY3RSZXRpbmEiOiBmYWxzZSwKICAgICAgICAibWF4TmF0aXZlWm9vbSI6IDE4LAogICAgICAgICJtYXhab29tIjogMTgsCiAgICAgICAgIm1pblpvb20iOiAwLAogICAgICAgICJub1dyYXAiOiBmYWxzZSwKICAgICAgICAib3BhY2l0eSI6IDEsCiAgICAgICAgInN1YmRvbWFpbnMiOiAiYWJjIiwKICAgICAgICAidG1zIjogZmFsc2UKfSkuYWRkVG8obWFwX2RiYzdhNDc5Y2Y4MDQwNzViM2UwZjI3MTNmZWFlMWJmKTsKICAgIAogICAgICAgICAgICB2YXIgaGVhdF9tYXBfMDk3YzM0MGVlOGY5NDQ4ZGEwMmEyMTE5YjRkYjQ1NzMgPSBMLmhlYXRMYXllcigKICAgICAgICAgICAgICAgIFtbNDAuNTczNzYzMzc1MDAwMDU1LCAtNzMuOTkyODc3NzU2OTk5OTddLCBbNDAuNTc0MzAxNDI1MDAwMDQ0LCAtNzMuOTk0MDcyNzg4OTk5OTddLCBbNDAuNTc0NjI3OTI5MDAwMDMsIC03My45OTE5NzA1NDM5OTk5OF0sIFs0MC41NzU1NzM2MzAwMDAwNywgLTczLjk4MTIwMzYyNDk5OTk4XSwgWzQwLjU3Njk5NTQ5MDAwMDA0NCwgLTczLjk4MTUyMzYwODk5OTk1XSwgWzQwLjU3NzY3NDA5NjAwMDA4LCAtNzMuOTg2MDU1NjI4OTk5OTVdLCBbNDAuNTc5MTYyNjI1MDAwMDQsIC03NC4wMDAzNzIyMzE5OTk5OV0sIFs0MC41ODMzODg4MzEwMDAwMzYsIC03My45ODY1MjI0NTZdLCBbNDAuNTg3OTUwMzEyMDAwMDMsIC03My45ODM1OTgwMDg5OTk5M10sIFs0MC41ODk4OTM3MjgwMDAwNCwgLTczLjgwODA3OTg5ODk5OTk1XSwgWzQwLjU5MTYxNjEyODAwMDA1NSwgLTc0LjEwOTEyMTIyNTk5OTk2XSwgWzQwLjU5MjQ1MTM2NjAwMDAzNCwgLTczLjc4NjAyNTc0NDk5OTk4XSwgWzQwLjU5MzY4NTMyNzAwMDA3LCAtNzMuNzU5MDcwMzc5OTk5OThdLCBbNDAuNTk0MDE5MDU5MDAwMDYsIC03My45NjA4NTQzMTU5OTk5NV0sIFs0MC41OTU4NjkxMjEwMDAwOCwgLTczLjc4MTg5NTQzMTk5OTk0XSwgWzQwLjU5NjQ2MjkzMTAwMDA4LCAtNzMuNzcyNDY2NDA4OTk5OTNdLCBbNDAuNTk3MTIwNTY2MDAwMDYsIC03My45NDEyNDkyMTY5OTk5NV0sIFs0MC41OTgzNjM4MjUwMDAwMzUsIC03My45NDA5ODUyNTE5OTk5OV0sIFs0MC41OTkyOTI2OTgwMDAwNTYsIC03My45OTE3NDQzMTY5OTk5OF0sIFs0MC41OTk3NzI5NzAwMDAwNiwgLTczLjc2MDIxODc1NDk5OTk4XSwgWzQwLjYwMTE1OTk1ODAwMDA0LCAtNzMuNzU2NzA5ODc2OTk5OTNdLCBbNDAuNjAyNjIwOTQ3MDAwMDUsIC03My45MTQ2NjM5NjVdLCBbNDAuNjAzMjc0MDA3MDAwMDQsIC03My43NTMxMDQ1MzI5OTk5NF0sIFs0MC42MDM2OTYyOTcwMDAwNTYsIC03My43NDkxMTI3Njg5OTk5NV0sIFs0MC42MDU4ODA1MDAwMDAwNywgLTczLjk5ODczMDE1Njk5OTk1XSwgWzQwLjYwNjY2NDg1NTAwMDA3NiwgLTczLjc1NjE0OTYwMjk5OTk4XSwgWzQwLjYwODk0ODAzNzAwMDA2LCAtNzMuOTgzNzIyNTA1OTk5OTRdLCBbNDAuNjEwODc5ODU0MDAwMDc1LCAtNzQuMTE2NzY2NTgzOTk5OTNdLCBbNDAuNjE3ODc1ODg3MDAwMDI1LCAtNzQuMDgyNDQ0Mzg1OTk5OTVdLCBbNDAuNjIxNTcwNzA2MDAwMDY0LCAtNzQuMDc4MDQzNDRdLCBbNDAuNjIxODczMzMxMDAwMDgsIC03My45MTg5OTA4NDg5OTk5NV0sIFs0MC42MjM1MzUwNjUwMDAwNTYsIC03My45Mzg1NDIyMzddLCBbNDAuNjI0NzE1MjcwMDAwMDI0LCAtNzQuMTYyODE0OTE0OTk5OTZdLCBbNDAuNjI1MzA2NjExMDAwMDM1LCAtNzQuMDgxNjQ2NjIzOTk5OTddLCBbNDAuNjI1NjA1MDEwMDAwMDcsIC03My45NTc1OTcyMDI5OTk5OF0sIFs0MC42MzA0MTUxNDIwMDAwNywgLTc0LjE0Mjk3Nzk1NTk5OTk4XSwgWzQwLjYzMDkzOTAxNjAwMDA3LCAtNzMuOTE4NDc5MDY1OTk5OTZdLCBbNDAuNjMyNzI4MTY0MDAwMDcsIC03My44OTEzNzI4Njk5OTk5M10sIFs0MC42MzMxMjc3MjYwMDAwNTUsIC03My44OTMwNDM5Mzc5OTk5M10sIFs0MC42MzM2Nzc4OTUwMDAwNiwgLTczLjg5NDM1NDUwMTk5OTk0XSwgWzQwLjYzNDA0NDI1MjAwMDA4LCAtNzQuMTIzNjA5Mzc0OTk5OTNdLCBbNDAuNjM0MzQ5NzY5MDAwMDQsIC03My45MDYzMjk1MDA5OTk5Nl0sIFs0MC42MzQ0MTE0NjcwMDAwNjQsIC03NC4xMTg5NjIyOTg5OTk5NV0sIFs0MC42MzUxNDE5MTIwMDAwNDQsIC03My45NDc4OTU2MTA5OTk5OF0sIFs0MC42MzU0NDQ3MTcwMDAwNCwgLTc0LjEyMDQzNzc1NTk5OTkzXSwgWzQwLjYzNTg3MjU2NjAwMDA0NiwgLTc0LjE2Njg0ODY2NTk5OTk1XSwgWzQwLjYzNTkyMDkyODAwMDA3NSwgLTc0LjE2OTQzOTM0MTk5OTk5XSwgWzQwLjYzNjMwOTkwMTAwMDA2LCAtNzMuOTIxNDYzMDA0OTk5OThdLCBbNDAuNjM2NDk2NjgyMDAwMDIsIC03My45NTE1MzAwMDE5OTk5N10sIFs0MC42MzY4MTg5NjcwMDAwNywgLTc0LjExODY1MzEyNjk5OTk3XSwgWzQwLjYzNzUxNzIyMDAwMDA2LCAtNzQuMTE3NjA1ODcyOTk5OTNdLCBbNDAuNjM3NjI0NzE2MDAwMDYsIC03My45NDUyNDkwMDg5OTk5NV0sIFs0MC42Mzc4MDQ0NjgwMDAwNywgLTczLjk0MjM3NzE5Njk5OTk4XSwgWzQwLjYzODA1NjQ3MTAwMDAyLCAtNzMuOTI2OTcwMDk4OTk5OTddLCBbNDAuNjM4NzA2ODk5MDAwMDU2LCAtNzMuOTQ2ODE5MDkwOTk5OTVdLCBbNDAuNjM4OTg0MTc2MDAwMDcsIC03NC4xNzEyNTIzMDQ5OTk5NV0sIFs0MC42MzkzNTI4MTcwMDAwMywgLTczLjk1NTM3MjUxNDk5OTk3XSwgWzQwLjYzOTUzNjkzNjAwMDA3LCAtNzQuMDg3MzAzMDIzOTk5OTRdLCBbNDAuNjQwNDc1MjkxMDAwMDMsIC03My45NDg0NjQzNjA5OTk5NF0sIFs0MC42NDA4NTUyODAwMDAwNCwgLTczLjk1ODIwNzI3Mjk5OTk3XSwgWzQwLjY0MDkxMzA3NzAwMDA0LCAtNzMuOTMwMjM1MTI5OTk5OTddLCBbNDAuNjQxMjI3ODA0MDAwMDQsIC03NC4wMDUzOTU1NDY5OTk5NV0sIFs0MC42NDIwNDMwNzIwMDAwNCwgLTczLjk0OTYwOTAwNjk5OTk0XSwgWzQwLjY0Mzc0MjU4MDAwMDA0LCAtNzMuOTUwNzMxOTg3OTk5OTddLCBbNDAuNjQ0MzMyNzIzMDAwMDUsIC03My45MzkyNzk4MDQ5OTk5Nl0sIFs0MC42NDQ4ODA1ODIwMDAwNCwgLTczLjg5MjY4OTk3NTk5OTk5XSwgWzQwLjY0NTE4NTcxODAwMDA0LCAtNzQuMDA2NjYwNjkxOTk5OThdLCBbNDAuNjQ1MzUwOTM0MDAwMDgsIC03My45NTczNzU2NTI5OTk5OV0sIFs0MC42NDg5NDA4NjkwMDAwNSwgLTczLjg4NDk0NjMxMDk5OTk1XSwgWzQwLjY0OTI5MzQ2MjAwMDA3LCAtNzMuODk3OTExODY3OTk5OTRdLCBbNDAuNjQ5OTM2Nzg5MDAwMDQsIC03My45MjAwNDUxMDY5OTk5NV0sIFs0MC42NTA3MDI2NzAwMDAwNSwgLTczLjkxMjYxNjc3ODk5OTk1XSwgWzQwLjY1MDgwODA5MDAwMDA1NSwgLTczLjk1ODgxNzI4Nzk5OTk4XSwgWzQwLjY1MDkyNzI0NzAwMDAyLCAtNzMuNzM0OTQxNTQ0OTk5OTddLCBbNDAuNjUxMTk0NzE1MDAwMDMsIC03My44OTY5MjE1MTM5OTk5OF0sIFs0MC42NTEyMDY3NzYwMDAwNCwgLTczLjk0MTQyNTAyN10sIFs0MC42NTE0OTMzNjgwMDAwNSwgLTczLjkyNDUzMDAxMTk5OTkzXSwgWzQwLjY1MjMyNjk1ODAwMDA3LCAtNzMuOTI3NTE2NjgyOTk5OThdLCBbNDAuNjUyNTcyNzYwMDAwMDU1LCAtNzMuOTUxMjE5MTk5XSwgWzQwLjY1Mzg4NjExMDAwMDAzLCAtNzMuOTU0NDk3ODQzOTk5OTVdLCBbNDAuNjU0NDkyNDAxMDAwMDIsIC03My44ODY1MzMzMDddLCBbNDAuNjU0OTUwOTcxMDAwMDYsIC03My45NjE3MjMxNzI5OTk5NV0sIFs0MC42NTU0OTg5OTIwMDAwNSwgLTczLjkxNzk1MTY5Njk5OTk1XSwgWzQwLjY1NTUzODQ4MjAwMDA1LCAtNzMuODg0MDk4NzkyOTk5OThdLCBbNDAuNjU1NzA4NTMxMDAwMDcsIC03My45MTU0NTM4MjU5OTk5Nl0sIFs0MC42NTY5MjkwNTMwMDAwNTYsIC03My45MjYwOTE2NTc5OTk5OF0sIFs0MC42NTcxOTI1NDcwMDAwOCwgLTczLjkxNDIyMjkzMjk5OTk4XSwgWzQwLjY1NzIzNjYxMzAwMDA2NiwgLTczLjkwMDc1Nzc5Nzk5OTk3XSwgWzQwLjY1Nzc1Nzg4ODAwMDA0LCAtNzMuOTUxNzc0MDUzOTk5OTRdLCBbNDAuNjU5Mjc1MjI3MDAwMDgsIC03My45MzQxMTU3Mjg5OTk5OF0sIFs0MC42NTk4NjQ4MTQwMDAwNSwgLTczLjc1NDk4MTk3Mzk5OTk1XSwgWzQwLjY2MDQzNjYyNTAwMDA0NSwgLTczLjkzOTc3MzM1NDk5OTkzXSwgWzQwLjY2MDgxMzQ0OTAwMDA0NSwgLTczLjg3ODI5Mzg1Mjk5OTkzXSwgWzQwLjY2MTQ4NzY5MjAwMDA0NCwgLTczLjg3MjMzMDk4Nzk5OTk5XSwgWzQwLjY2MTUwMjI2NDAwMDA0LCAtNzMuOTA3NjYxMDM2OTk5OTddLCBbNDAuNjYxNzc0MTU2MDAwMDM1LCAtNzMuODk4MDk0NjEzOTk5OTRdLCBbNDAuNjYyMjEzMzIyMDAwMDcsIC03My44ODYzNzU5OTc5OTk5NV0sIFs0MC42NjIzMjE2OTkwMDAwNzQsIC03My45Mzg2NTQyODM5OTk5NF0sIFs0MC42NjI1NjUyNDUwMDAwNDYsIC03My45MTk2Mjk4Nzg5OTk5NF0sIFs0MC42NjI3Njc1MDMwMDAwNTUsIC03My45MDc1Mjk1MjU5OTk5Nl0sIFs0MC42NjMxNjE4NTYwMDAwNDUsIC03My44Nzk4MzIyNzk5OTk5N10sIFs0MC42NjM0NDAzNjIwMDAwOCwgLTczLjc0MDc4ODc3Mjk5OTk4XSwgWzQwLjY2MzU2OTI4ODAwMDA3NiwgLTczLjkyMjg0MDI2Mzk5OTk0XSwgWzQwLjY2NDA2OTMxMjAwMDA0LCAtNzMuODk4NjgyMjQ3OTk5OTNdLCBbNDAuNjY0MTkxOTQ4MDAwMDQ1LCAtNzMuOTI2NDExNjIyOTk5OThdLCBbNDAuNjY0MjE2MjA1MDAwMDQ1LCAtNzMuNzQ5MDMyOTI5OTk5OTNdLCBbNDAuNjY0MjgyOTk4MDAwMDMsIC03My43NzE4ODE4MjU5OTk5OF0sIFs0MC42NjQ3MDE2NjYwMDAwMzUsIC03My44NjczMzI1Mzc5OTk5N10sIFs0MC42NjQ3MTczNTEwMDAwMzYsIC03My45MjgyMzEzMzg5OTk5OV0sIFs0MC42NjQ3MzE5NDIwMDAwNywgLTczLjkyMTE3MDAxNDk5OTk3XSwgWzQwLjY2NDg2NTgwMDAwMDA0LCAtNzMuOTIwMjQ3MDg5OTk5OThdLCBbNDAuNjY1MDI5NDkyMDAwMDMsIC03My43NjUwMTk3Njg5OTk5M10sIFs0MC42NjUyNTA1NDkwMDAwNiwgLTczLjg5MDc1NzU5NF0sIFs0MC42NjUzMTMwMDYwMDAwOCwgLTczLjkzMjg0MDk1Mjk5OTk4XSwgWzQwLjY2NTM4NTE3MDAwMDAzNiwgLTczLjkzNDIyNTA0MDk5OTkzXSwgWzQwLjY2NTYwOTM2MTAwMDA3LCAtNzMuODY2NjE3MDIxOTk5OTZdLCBbNDAuNjY1Njc0NzAwMDAwMDc1LCAtNzMuODY2MTU1NTAyOTk5OTddLCBbNDAuNjY1Njk5MDg2MDAwMDgsIC03My44ODA4NDQyMDU5OTk5NV0sIFs0MC42NjU5MjYwNDAwMDAwNDUsIC03My45MjU0NjUzMDA5OTk5Nl0sIFs0MC42NjYwMTU2NjAwMDAwMiwgLTczLjc3OTI3NjE5OTk5OTk3XSwgWzQwLjY2NjEzMjgzNjAwMDAzLCAtNzMuOTMxMzgzODU5OTk5OThdLCBbNDAuNjY2MjMxNTIxMDAwMDM2LCAtNzMuOTIyNTM4MDAwOTk5OTVdLCBbNDAuNjY2MzU5NzI2MDAwMDQ2LCAtNzMuODc0ODcwMTQxOTk5OTVdLCBbNDAuNjY2NDY0NjYyMDAwMDcsIC03My45MDQxMDM1OTQ5OTk5OF0sIFs0MC42NjY0OTM4MjYwMDAwOCwgLTczLjg4Nzc5MjUzOTk5OTk4XSwgWzQwLjY2NjcxMDE2NDAwMDA1LCAtNzMuODc0MDUxMjI3OTk5OThdLCBbNDAuNjY3MTM1ODc3MDAwMDgsIC03My44NjY5NzgwNDE5OTk5N10sIFs0MC42Njc1Mzc5ODcwMDAwNywgLTczLjc2MzU2MTgzNjk5OTk0XSwgWzQwLjY2NzU3MzQyNDAwMDA3NSwgLTczLjkwNzI5NTc2NTk5OTkzXSwgWzQwLjY2NzYyOTg3MzAwMDA3LCAtNzMuODk2MjU0NDc3OTk5OTNdLCBbNDAuNjY3Njk4Nzc5MDAwMDMsIC03My44Nzk2NDAyNjQ5OTk5OF0sIFs0MC42Njc5MDk0MjcwMDAwNCwgLTczLjkzMjYwMDQyNzk5OTkzXSwgWzQwLjY2ODM4NDUxNzAwMDA0LCAtNzMuOTIwMTE2NzE2OTk5OThdLCBbNDAuNjY4NjU2MTgzMDAwMDQ2LCAtNzMuOTI4MzQ5NjYxOTk5OTddLCBbNDAuNjY5MDQ1NDk3MDAwMDcsIC03My44ODEzNTAxMDY5OTk5NV0sIFs0MC42NjkwNTAxMDUwMDAwNDYsIC03My44NzAzNTkxMTU5OTk5Nl0sIFs0MC42NjkxNjczMDcwMDAwNjYsIC03My44OTY2NTIyMTY5OTk5NV0sIFs0MC42NjkzMDk4MjcwMDAwNiwgLTczLjg2OTQ0NjU5Njk5OTk1XSwgWzQwLjY2OTgzNTM1NjAwMDA4LCAtNzMuOTE0NjkzMzI1OTk5OTZdLCBbNDAuNjY5OTAwNzg4MDAwMDY0LCAtNzMuOTU4ODMwNzMyOTk5OTZdLCBbNDAuNjY5OTY4MTQyMDAwMDcsIC03My45MDg4ODU3NzM5OTk5NF0sIFs0MC42Njk5Nzc4ODUwMDAwNCwgLTczLjgyMzAxODYyMDk5OTk2XSwgWzQwLjY3MDAzMDA4MTAwMDA1LCAtNzMuOTA0MDQ0Mzk2OTk5OTVdLCBbNDAuNjcwMDM2Mzk4MDAwMDQsIC03My45MDg0Mjc4NjU5OTk5NV0sIFs0MC42NzAwNTQwNzIwMDAwMiwgLTczLjkyMTE3NDUzOTk5OTk4XSwgWzQwLjY3MDE2ODIzNjAwMDA0NSwgLTczLjkxNTcyNzQ4ODk5OTkzXSwgWzQwLjY3MDMyMDAxNzAwMDA0NCwgLTczLjkzMzc2MjM1Nzk5OTk3XSwgWzQwLjY3MDQ1ODEyMjAwMDA3LCAtNzMuNzkzMzI3Njg1OTk5OTRdLCBbNDAuNjcwNDk0MDg2MDAwMDgsIC03My44MDQ0ODEwMzE5OTk5Nl0sIFs0MC42NzA1MTUxNDkwMDAwNCwgLTczLjkyOTU2NjEwNzk5OTk3XSwgWzQwLjY3MDY2NjI3MjAwMDA2LCAtNzMuOTU3OTc1OTA3OTk5OThdLCBbNDAuNjcwNjY3MTI1MDAwMDgsIC03My44NzU2NDQzMTc5OTk5Nl0sIFs0MC42NzA4MTc1OTAwMDAwNywgLTczLjkzNTExMDA4Njk5OTk0XSwgWzQwLjY3MTExMDgzNDAwMDA1LCAtNzMuOTEzNTYzMzYyOTk5OThdLCBbNDAuNjcxMTc2NzEzMDAwMDgsIC03My45MjUzMjk2NTY5OTk5NV0sIFs0MC42NzExOTAwNzYwMDAwNywgLTczLjkwOTUyOTM4MDk5OTk3XSwgWzQwLjY3MTI0NjUzNDAwMDAyNiwgLTczLjg2NjA5Mzg1Mjk5OTk0XSwgWzQwLjY3MTM1OTgyMDAwMDA4LCAtNzMuODgxODExMDIyOTk5OTVdLCBbNDAuNjcxMzYxNTQ1MDAwMDI1LCAtNzMuODg2MjQ1MDU2OTk5OTRdLCBbNDAuNjcxNjM0NzEwMDAwMDM1LCAtNzMuODc0NDI3NjU1OTk5OTddLCBbNDAuNjcxODU1MDExMDAwMDUsIC03My44ODI5MTY4NjA5OTk5Nl0sIFs0MC42NzIwODUwODEwMDAwMzQsIC03My43NTY0OTQ0MjE5OTk5NV0sIFs0MC42NzI4MTQ2NzMwMDAwNiwgLTczLjg3MTY3NDgyODk5OTk3XSwgWzQwLjY3MzAxOTA2OTAwMDA4LCAtNzMuODcwMzY5NDI2OTk5OTZdLCBbNDAuNjczNDkzNjA5MDAwMDUsIC03My45MzQ4NjU5NDc5OTk5OF0sIFs0MC42NzM3MjUwNzMwMDAwNywgLTczLjk0NzM1MzU1NDk5OTk1XSwgWzQwLjY3Mzc0MDAxMDAwMDA3NCwgLTczLjk1Njg2MzYyMDk5OTk3XSwgWzQwLjY3NDIyNzczOTAwMDA2LCAtNzMuODU3MjczNDg2OTk5OTldLCBbNDAuNjc0MzY2Njk1MDAwMDYsIC03My45MTgwNzI2ODc5OTk5NF0sIFs0MC42NzQ1ODgzODAwMDAwNDYsIC03My44MDM5MzkwODA5OTk5NV0sIFs0MC42NzQ2MzQzOTgwMDAwOCwgLTczLjg4MTg2NjUwNjk5OTk4XSwgWzQwLjY3NDkxMDc0ODAwMDA0NSwgLTczLjg3MDgzODAxNzk5OTk3XSwgWzQwLjY3NDk4Njk3MDAwMDA4LCAtNzMuOTQ1ODQ1NjI1OTk5OTRdLCBbNDAuNjc1MDgxNDIxMDAwMDcsIC03My45MjM2MzgwOTU5OTk5M10sIFs0MC42NzUyMDQ1MDIwMDAwNCwgLTczLjk0MTY1MjcwMzk5OTk1XSwgWzQwLjY3NTM5NTY0MDAwMDAzLCAtNzMuODg1NTA5OTM5OTk5OThdLCBbNDAuNjc1NDY3NTY2MDAwMDcsIC03My44ODA2NjA5MTc5OTk5M10sIFs0MC42NzU0OTQ3OTgwMDAwNDUsIC03My45MDA2NTEzMTY5OTk5OF0sIFs0MC42NzU2MTU4NzIwMDAwNDQsIC03My45MjY2NTg1ODY5OTk5NV0sIFs0MC42NzU3Mjc3NDYwMDAwNjQsIC03My45MjE0OTU5MDA5OTk5Nl0sIFs0MC42NzYwMTA2NTcwMDAwNiwgLTczLjg2Nzc2NDI5MDk5OTk3XSwgWzQwLjY3NjExNzk3NDAwMDA4LCAtNzMuOTAwNzgwMTc0OTk5OTddLCBbNDAuNjc2NTUxOTE5MDAwMDc2LCAtNzMuNzUwNTg3MjE3OTk5OThdLCBbNDAuNjc3MTgxOTE5MDAwMDgsIC03My45MjQ3Njc3Mjk5OTk5OV0sIFs0MC42Nzc0Njk1OTcwMDAwMiwgLTczLjg5ODk5NzE3Njk5OTk2XSwgWzQwLjY3NzY0MDczNzAwMDA1LCAtNzMuNzQyNzE2NDcwOTk5OTRdLCBbNDAuNjc4MDM2Mjg3MDAwMDUsIC03My43ODEzNDkxMDY5OTk5OF0sIFs0MC42NzgwNTU0MzAwMDAwMiwgLTczLjkzMDE4OTA2NTk5OTk4XSwgWzQwLjY3ODI5MzAzNzAwMDA3LCAtNzMuOTA4ODY3MTg5OTk5OTddLCBbNDAuNjc4NDk2NjI1MDAwMDQsIC03My45Mzg1NjM2OTQ5OTk5N10sIFs0MC42Nzg5NTQ3ODkwMDAwNSwgLTczLjk2Mzk4Nzk1NTk5OTk4XSwgWzQwLjY3OTE4ODI1MjAwMDA4LCAtNzMuOTIwNTQwMDIxOTk5OTVdLCBbNDAuNjc5MTkyNDcwMDAwMDMsIC03My45NDEyNzc4NjY5OTk5NF0sIFs0MC42NzkyMjYwODMwMDAwNywgLTczLjkyNzk3NDE2Nzk5OTkzXSwgWzQwLjY3OTI0MjMzNjAwMDA3LCAtNzMuOTQyMTg2MzY1OTk5OTldLCBbNDAuNjc5MzA4OTU5MDAwMDI1LCAtNzMuOTQ5NjE2OTAyOTk5OTRdLCBbNDAuNjc5NDM0NDU4MDAwMDcsIC03My45MzIxMTI4NzQ5OTk5N10sIFs0MC42Nzk2NDM4MDcwMDAwNSwgLTczLjk0OTU4NDIwMTk5OTk4XSwgWzQwLjY3OTgyNzAxNjAwMDA1LCAtNzMuOTA4NDI1MjM4OTk5OTVdLCBbNDAuNjc5ODQ3NDkwMDAwMDM2LCAtNzMuOTM5Mzg0NDcyOTk5OTldLCBbNDAuNjc5ODcxNDUyMDAwMDQsIC03My44NTExMjg2NzQ5OTk5OF0sIFs0MC42Nzk5ODA3MzgwMDAwNCwgLTczLjc3NjIzMzkwNjk5OTkzXSwgWzQwLjY4MDMzMjgwNTAwMDA0LCAtNzMuOTM4NDI0OTk4OTk5OTVdLCBbNDAuNjgwNDg3MTM5MDAwMDM2LCAtNzMuOTI1NTUzNTgyOTk5OTVdLCBbNDAuNjgwNjg1NzUwMDAwMDcsIC03My45MjcwOTY0NzY5OTk5NV0sIFs0MC42ODA5NDg3NTkwMDAwNDYsIC03My45MTgyMDE2MDg5OTk5NF0sIFs0MC42ODExMzQyODQwMDAwNSwgLTczLjk2NDQ1NTQ4NDk5OTk3XSwgWzQwLjY4MTU5ODkyNjAwMDA1LCAtNzMuOTY3MDU4Mzc3OTk5OTNdLCBbNDAuNjgxNjIwNjY4MDAwMDQsIC03My45NTc5NjkwMDQ5OTk5NV0sIFs0MC42ODIxMDM2NjIwMDAwMywgLTczLjkyMTIwNzE2Nzk5OTk3XSwgWzQwLjY4MjMwMDg1ODAwMDA3NiwgLTczLjkxMjk5MzYxMjk5OTk4XSwgWzQwLjY4MjQ5OTQyMTAwMDA0NSwgLTczLjc4NzI2OTE1NDk5OTkzXSwgWzQwLjY4MzA0NTYxODAwMDA0NCwgLTczLjkyNjA5NTE2Mjk5OTk2XSwgWzQwLjY4MzA5MTk3NDAwMDA0LCAtNzMuOTU4MjYzNzMxXSwgWzQwLjY4MzE3MjY5OTAwMDA3NSwgLTczLjc0NTczNDYxMjk5OTk3XSwgWzQwLjY4MzI5NTE4NDAwMDAzLCAtNzMuNzc5ODUzNTg0OTk5OTZdLCBbNDAuNjgzNzYxODU0MDAwMDc1LCAtNzMuODg1NjQ3MDEwOTk5OTNdLCBbNDAuNjgzOTc2MDY4MDAwMDQsIC03My43ODI4MzY3NzE5OTk5NV0sIFs0MC42ODQxOTQzMDIwMDAwNDQsIC03My45MTYwODQ3NDU5OTk5N10sIFs0MC42ODQxOTk3MjMwMDAwNiwgLTczLjk0ODY2MTMyODk5OTkzXSwgWzQwLjY4NDI4MTU0ODAwMDA0NCwgLTczLjg3MzQyNjcyMDk5OTk5XSwgWzQwLjY4NTk2NDU1ODAwMDA4LCAtNzMuODczODQ4OTk4OTk5OTVdLCBbNDAuNjg2Mzk1NzM0MDAwMDMsIC03My45NDkwOTU5MzFdLCBbNDAuNjg2NTc3NjM2MDAwMDQsIC03My45NTA4MTIxMThdLCBbNDAuNjg3MDg4NDE5MDAwMDgsIC03My45MTM4OTI0MDk5OTk5N10sIFs0MC42ODc1MTQ0MjAwMDAwNywgLTczLjkxNDY0NTQ2ODk5OTk0XSwgWzQwLjY4NzU2NTU2MzAwMDA4LCAtNzMuOTM4OTUxOTc1OTk5OTRdLCBbNDAuNjg3ODY0MzE3MDAwMDUsIC03My45NDkzOTA0ODM5OTk5M10sIFs0MC42ODgwNzA5MzYwMDAwMywgLTczLjkzNDU2Njg0ODk5OTk1XSwgWzQwLjY4ODE1NDEyMDAwMDAzNiwgLTczLjk0Njg1NTM3Nzk5OTk1XSwgWzQwLjY4ODMxODE0MzAwMDA2LCAtNzMuOTQ1NDM4MTU5OTk5OThdLCBbNDAuNjg4MzUyNDM0MDAwMDgsIC03My45NTQ5MDM0MTc5OTk5N10sIFs0MC42ODg0NDY5MTkwMDAwNSwgLTczLjc5NjEyNDE0Nzk5OTkzXSwgWzQwLjY4ODkxNDQ5MDAwMDA0NSwgLTczLjc1NDQ0NjEzMDk5OTk1XSwgWzQwLjY4OTAwNDU4MDAwMDA3LCAtNzMuNzg1ODA2MDUzOTk5OTVdLCBbNDAuNjg5MDQ4MjU1MDAwMDQ2LCAtNzMuOTU4NjEzMzc3OTk5OTVdLCBbNDAuNjg5NDcyNjUyMDAwMDYsIC03My43NDk3OTk2Nzg5OTk5NV0sIFs0MC42ODk1NzI3MjYwMDAwNDQsIC03My43OTYzNzY3MjQ5OTk5N10sIFs0MC42OTA0NDA0NDkwMDAwNSwgLTczLjkwNzY2Nzg0XSwgWzQwLjY5MDg2MTE3ODAwMDAzLCAtNzMuNzU4NjM5OTE4OTk5OTVdLCBbNDAuNjkxMjkwNzEzMDAwMDY1LCAtNzMuNzk3Nzk1ODQ0OTk5OTVdLCBbNDAuNjkxNTEyNDA3MDAwMDYsIC03My45MDk1NTIyOTA5OTk5NV0sIFs0MC42OTE4MjM0NTAwMDAwNywgLTczLjc1NDIwODIzNjk5OTk0XSwgWzQwLjY5MjA1NTQyOTAwMDA1LCAtNzMuOTEyNTMwMTMwOTk5OThdLCBbNDAuNjkyNjYxNTM5MDAwMDMsIC03My45MzY5Nzg0MDE5OTk5N10sIFs0MC42OTMwMDc1OTkwMDAwNTUsIC03My45MTIxODI2OTg5OTk5N10sIFs0MC42OTM0OTc1OTQwMDAwNjQsIC03My45NzkxNjg5OTk5OTk5Nl0sIFs0MC42OTM2ODU4NzgwMDAwNDYsIC03My44MDAzNTI1MzE5OTk5NV0sIFs0MC42OTM4MjM1NDEwMDAwMiwgLTczLjgwMDU5NzMzOF0sIFs0MC42OTM5OTUyMzIwMDAwOCwgLTczLjk0MTY4MzEzOTk5OTk1XSwgWzQwLjY5NDMxMzI3NzAwMDA1LCAtNzMuOTE4NTEzMzcxOTk5OTVdLCBbNDAuNjk0MzIzNzkyMDAwMDM0LCAtNzMuNzc1NjM0MDI3OTk5OTZdLCBbNDAuNjk0MzM4MzA1MDAwMDMsIC03My44MjY5NjM5OTk5OTk5OF0sIFs0MC42OTQzNzQxNjgwMDAwMjQsIC03My45ODU2NjMzOTk5OTk5NV0sIFs0MC42OTQ2MDQ3NTQwMDAwNzUsIC03My43Mzg0MDI5MzM5OTk5NV0sIFs0MC42OTQ3MTUzMDgwMDAwNywgLTczLjk3NDM5MDQ0Nzk5OTk1XSwgWzQwLjY5NTAxNTI1MTAwMDAyLCAtNzMuOTc4MDkzODgyOTk5OTldLCBbNDAuNjk1MDkyMzE3MDAwMDUsIC03My45NzkyNDA2MjVdLCBbNDAuNjk1MTQwOTA4MDAwMDQsIC03My45NzUxMjU5NDddLCBbNDAuNjk1MzkxNTI3MDAwMDIsIC03My45Nzk0MDY0MTY5OTk5NV0sIFs0MC42OTU3NTA1MDMwMDAwNTYsIC03My45Mjk0MTMyMzE5OTk5NF0sIFs0MC42OTU3NTgyMjkwMDAwNCwgLTczLjk0OTI4MzUxNzk5OTk3XSwgWzQwLjY5NTc3MDA5MzAwMDA4LCAtNzMuOTc4MjUyMzA4OTk5OTddLCBbNDAuNjk1Nzc1MzY0MDAwMDQsIC03My45MDY1MjgwOTY5OTk5NV0sIFs0MC42OTU3ODIxNDYwMDAwNTYsIC03My43OTA2NjcxMjE5OTk5NV0sIFs0MC42OTYwMTgxNDAwMDAwMzUsIC03My45MzE3MjQ1NDc5OTk5OF0sIFs0MC42OTY1MDE1NzEwMDAwNTYsIC03My43OTM4NzA4NDE5OTk5NV0sIFs0MC42OTY1OTIxMTUwMDAwNSwgLTczLjc4MzM5MDcxNDk5OTk1XSwgWzQwLjY5NzAzMzk5MDAwMDA4LCAtNzMuOTcxNjMwNzQzOTk5OThdLCBbNDAuNjk3NDQzNDExMDAwMDQ0LCAtNzMuNzU4NzYwMzQyOTk5OTVdLCBbNDAuNjk3NTQ5NDA0MDAwMDIsIC03My45NDY3MTgwNjE5OTk5NV0sIFs0MC42OTc2MTg2NzkwMDAwNywgLTczLjgyMDA0NTc1NTk5OTk2XSwgWzQwLjY5NzgwNTMwODAwMDA1NiwgLTczLjgwODE0MDcxNjk5OTk3XSwgWzQwLjY5ODE3NDE0MDAwMDA1LCAtNzMuOTQ0NDUyNzcxOTk5OTVdLCBbNDAuNjk4NTQ0NDExMDAwMDY0LCAtNzMuOTQ5ODM2NzgxXSwgWzQwLjcwMDMxNTY0NzAwMDAyNSwgLTczLjc2NTk4ODE2MDk5OTk1XSwgWzQwLjcwMDUxMjY3NjAwMDA3LCAtNzMuOTI5NDExNzk2OTk5OTRdLCBbNDAuNzAwNTkyODczMDAwMDYsIC03My44MTU4NTQxOTY5OTk5NV0sIFs0MC43MDA5MjIxNDQwMDAwNiwgLTczLjc1NDA5MTc0MTk5OTk2XSwgWzQwLjcwMTQwNjAxNjAwMDA4LCAtNzMuOTgzODA4MTMyXSwgWzQwLjcwMTY0NTcyNzAwMDAyLCAtNzMuOTM4MDEyMjAwOTk5OTRdLCBbNDAuNzAyODQ2MDUwMDAwMDYsIC03My43ODcwNDkxNDM5OTk5OF0sIFs0MC43MDM3MjA4MTcwMDAwMywgLTczLjkzODA5NjgzMDk5OTk1XSwgWzQwLjcwMzkzNjE1NDAwMDA3NSwgLTczLjczMzI0ODQzMzk5OTk1XSwgWzQwLjcwNDMzNjQ3MDAwMDA1LCAtNzMuNzk3NzA1NzgwOTk5OTNdLCBbNDAuNzA1NzQxNzE5MDAwMDUsIC03My45Mzk1MTYwMTk5OTk5OV0sIFs0MC43MDkwODczOTQwMDAwNSwgLTczLjk1NzQ4OTk5Nzk5OTk3XSwgWzQwLjcxMDgzODE2NDAwMDA1LCAtNzQuMDAwNjMyNjc4XSwgWzQwLjcxMTkzNzYxMTAwMDA0NiwgLTczLjkwNDQ3NDYzNTk5OTk2XSwgWzQwLjcxMjAwNDY5NTAwMDA3NiwgLTczLjk1NjQ2NzMyNjk5OTk4XSwgWzQwLjcxMjIyOTAwODAwMDA2NSwgLTczLjk4NjgzNTQ3ODk5OTk1XSwgWzQwLjcxMjg4OTY0NTAwMDA3NSwgLTczLjk4MDc4MjU0OTk5OTk3XSwgWzQwLjcxNTY2NDM2OTAwMDA4LCAtNzMuNzM1NTM1NDMwOTk5OTZdLCBbNDAuNzE2MjYzNDYwMDAwMDUsIC03My45ODQwNzg2Nzk5OTk5OF0sIFs0MC43MTczNzY2ODIwMDAwNywgLTczLjkzOTM0NjczNTk5OTkzXSwgWzQwLjcxNzc0MjcwMTAwMDA4LCAtNzMuOTgyNzkwNDgwOTk5OTRdLCBbNDAuNzE4MTc5OTU2MDAwMDIsIC03My43MzYxMzUxMDc5OTk5OF0sIFs0MC43MTg2NTg4ODUwMDAwMjUsIC03My44Mzc3MDUyMjk5OTk5OF0sIFs0MC43MTg4NzAwNjYwMDAwOCwgLTczLjkzOTc5MjcwMzk5OTk0XSwgWzQwLjcyMDgxMzI5ODAwMDA0NiwgLTczLjk3ODEzNTkxMDk5OTk4XSwgWzQwLjcyMTM1Mjk0MTAwMDA4LCAtNzMuOTkwMzM2NjY0OTk5OTddLCBbNDAuNzIyMjk0Mjc0MDAwMDQsIC03My45ODkwMDg5MDg5OTk5NV0sIFs0MC43MjMzOTI5OTgwMDAwNjUsIC03My45NzYyNTU0NDI5OTk5Nl0sIFs0MC43Mjc1ODE3ODMwMDAwNiwgLTczLjgxNzMzMTAzODk5OTk1XSwgWzQwLjcyODI1MDc5NzAwMDA0NCwgLTc0LjAwNTM3MDEyMzk5OTk3XSwgWzQwLjczMDY2NzgwOTAwMDA3NCwgLTczLjk4MzA3OTM5OTk5OTk1XSwgWzQwLjczNDU1NzY0ODAwMDA4LCAtNzMuODg0MDU4Nzc0OTk5OTddLCBbNDAuNzM1MzIwMjEyMDAwMDMsIC03My44NDgyMjYzNDc5OTk5OF0sIFs0MC43MzUzMzA5MTYwMDAwNywgLTczLjg3NTQ1MTQ3MTk5OTk1XSwgWzQwLjczNTc4MzI3ODAwMDA0LCAtNzMuODEwNjI1ODAyOTk5OTRdLCBbNDAuNzM4MTcxMzcyMDAwMDcsIC03My44NjA3NTIyNTY5OTk5NF0sIFs0MC43Mzg0MzUwODIwMDAwOCwgLTczLjg2NTU1MTA1OTk5OTk3XSwgWzQwLjc0MDk1MDYzMTAwMDAzLCAtNzMuOTkyMTI3MzMxOTk5OTVdLCBbNDAuNzQxNjUxNDg4MDAwMDQ1LCAtNzMuOTc4MTY4NzY4OTk5OTldLCBbNDAuNzQyOTQzNzQ3MDAwMDIsIC03My44Mjc3MjE5MTc5OTk5NV0sIFs0MC43NDM0NzA0NTUwMDAwOCwgLTc0LjAwNTM5MzAwMzk5OTk4XSwgWzQwLjc0NTI2NDkyNTAwMDA3LCAtNzMuOTA1MDMzMTQ2OTk5OThdLCBbNDAuNzQ2MzA3OTk1MDAwMDQ1LCAtNzMuOTE1Njk2MTQwOTk5OTZdLCBbNDAuNzQ2MzMyNTc3MDAwMDMsIC03My45NDc5NTMwMTE5OTk5N10sIFs0MC43NDc0NDAwODAwMDAwNSwgLTczLjkyNTQ2Nzk0MDk5OTk3XSwgWzQwLjc0ODQyNDUwMjAwMDAzNCwgLTczLjg3NjQ4MDg0Mjk5OTk3XSwgWzQwLjc0OTI4NTc5OTAwMDA2LCAtNzMuODc4NTQwMDU2OTk5OTVdLCBbNDAuNzQ5NDI5ODA0MDAwMDUsIC03My45MDk4MDU2OTg5OTk5M10sIFs0MC43NDk4NzczNzQwMDAwNSwgLTczLjg2MjcyNzI2MDk5OTk2XSwgWzQwLjc1MTY2NzQ4MDAwMDA0LCAtNzMuODMzOTQzMzY5OTk5OTldLCBbNDAuNzUxOTc1NjA2MDAwMDMsIC03My44NjM3NzMyMzU5OTk5OV0sIFs0MC43NTIxMTE3NzQwMDAwNywgLTczLjg3MjQyODAwNDk5OTk3XSwgWzQwLjc1Mjc4ODIzMjAwMDA2NCwgLTczLjg2NjI2OTIxOTk5OTk0XSwgWzQwLjc1Mzc4NDIzMjAwMDA0NCwgLTczLjgzNDMyNDI5Njk5OTk3XSwgWzQwLjc1NDE2NDU1MTAwMDAzLCAtNzMuOTQ0NjUxNTIyOTk5OTNdLCBbNDAuNzU0OTMzNDgxMDAwMDgsIC03My45MTAzOTAxOTI5OTk5Nl0sIFs0MC43NTUyNDA1ODYwMDAwNywgLTczLjk0NDg0OTE0ODk5OTk0XSwgWzQwLjc1NTQ0MzAwNTAwMDA3NSwgLTczLjk0MzQyMzI0NTk5OTk1XSwgWzQwLjc1NjI3NTQzNDAwMDAzLCAtNzMuOTQ1MDE0MzI4OTk5OTVdLCBbNDAuNzU5NDExMzY2MDAwMDQ1LCAtNzMuODAzMTczMjI0OTk5OTddLCBbNDAuNzU5NDUwNTY3MDAwMDQ0LCAtNzMuOTMzNTc2MjY2XSwgWzQwLjc2MDYyNjc0MTAwMDA4LCAtNzMuOTM2MDkxMDc4OTk5OTRdLCBbNDAuNzYxMjIxMjExMDAwMDgsIC03My44NjcyMzA1MzY5OTk5NV0sIFs0MC43NjE4NzA0NjIwMDAwNSwgLTczLjkzMTkxMzM0Mjk5OTk4XSwgWzQwLjc2NDUxMDIxNTAwMDA0LCAtNzMuODI0NzEzMTkxOTk5OTVdLCBbNDAuNzY4MTAzODU0MDAwMDYsIC03My44MjUyMTYzNzQ5OTk5N10sIFs0MC43NzExMDEwOTcwMDAwNCwgLTczLjgzNDQ5NzgzNTk5OTk4XSwgWzQwLjc3NDI5MDYwMDAwMDAyLCAtNzMuOTg3MTE5MjcwOTk5OThdLCBbNDAuNzc1MzM1OTIyMDAwMDcsIC03My45MzYyODk5ODM5OTk5OF0sIFs0MC43ODY3MzE4OTgwMDAwMywgLTczLjk0MTEzMjQ2Nzk5OTk4XSwgWzQwLjc4ODg0NTA2MzAwMDA0NiwgLTczLjk0NjE3NTUzNzk5OTk4XSwgWzQwLjc4OTQ4NjU1NTAwMDA0NiwgLTczLjk1MDU3MzU4Mzk5OTk4XSwgWzQwLjc5MDc0NjQxNDAwMDA3NiwgLTczLjk1MDYzNDA0MTk5OTk1XSwgWzQwLjc5MTQ5MTA4NDAwMDAyLCAtNzMuODE5NDEyODIzOTk5OThdLCBbNDAuNzkxOTE2MDkxMDAwMDgsIC03My45NDU0Nzk2NTk5OTk5OF0sIFs0MC43OTIxMzA4OTIwMDAwNDYsIC03My45MzYxNzI3OTJdLCBbNDAuNzkzMzAwOTQzMDAwMDgsIC03My45NDg3NjQ5OTc5OTk5M10sIFs0MC43OTQ5NDM5NDEwMDAwMzUsIC03My45NDA3NTMyMTE5OTk5NV0sIFs0MC43OTU4NDcyMTMwMDAwNDQsIC03My45NDY5MTAyNjM5OTk5NV0sIFs0MC43OTU4NTU4ODYwMDAwMiwgLTczLjk0Nzg3MDk1NDk5OTk4XSwgWzQwLjc5NjEyNjU1MTAwMDAzNiwgLTczLjk0NTU3MDExNDk5OTk1XSwgWzQwLjc5NjQ0NDIxNzAwMDA0NCwgLTczLjk2NDkxNzYxNDk5OTkzXSwgWzQwLjc5NjQ4NDIyMTAwMDA3LCAtNzMuOTQ3NDExNzc5OTk5OThdLCBbNDAuNzk3MDg4NTg0MDAwMDUsIC03My45NDI3NDg1Nzk5OTk5M10sIFs0MC43OTcxNDIyODcwMDAwNCwgLTczLjk0NTk2NjU3Mzk5OTk1XSwgWzQwLjc5NzMwMDA4NjAwMDA2NCwgLTczLjk0ODkyODA1OTk5OTk2XSwgWzQwLjc5NzM0OTM2ODAwMDAzLCAtNzMuOTM3NTI5NDEwOTk5OTZdLCBbNDAuNzk3NjYwNTcyMDAwMDQsIC03My45NTEwNjIzMjM5OTk5NV0sIFs0MC43OTc4MTMxODQwMDAwNiwgLTczLjk0ODU1MjA0Mzk5OTk1XSwgWzQwLjc5ODQ4MzE2MjAwMDAyNSwgLTczLjk0OTE0NzQ3MDk5OTkzXSwgWzQwLjc5ODYyMzM3NzAwMDA3LCAtNzMuOTQzNzQ0MTE2OTk5OTRdLCBbNDAuNzk4NjMwNjQ0MDAwMDcsIC03My45MzY1OTI3NTI5OTk5Nl0sIFs0MC43OTg5ODYxMDUwMDAwNCwgLTczLjk0NDYxNzg2ODk5OTk2XSwgWzQwLjc5OTIzMjQ4NjAwMDA0NCwgLTczLjkzMzA1NjE5Nzk5OTk3XSwgWzQwLjc5OTMwODI1NDAwMDA0LCAtNzMuOTQxMTI4NTcwOTk5OThdLCBbNDAuNzk5NjMxODUwMDAwMDI2LCAtNzMuOTQ2MTY2ODE2OTk5OTNdLCBbNDAuNzk5NjY1MjY0MDAwMDU1LCAtNzMuOTQ3MTk5Nzc5OTk5OTVdLCBbNDAuODAwMjUyNTgzMDAwMDMsIC03My45NDE0MDk0NjE5OTk5N10sIFs0MC44MDAyNzE0MDMwMDAwNywgLTczLjk1MjQ4MzQ4Nzk5OTk4XSwgWzQwLjgwMDY5NDEwMjAwMDA4LCAtNzMuOTUyNTA4NDY5OTk5OTNdLCBbNDAuODAwOTMwMzczMDAwMDMsIC03My45NDEwOTgyNDA5OTk5NV0sIFs0MC44MDI3NjU4MDUwMDAwMzUsIC03My45Mzk1NzIzNDI5OTk5NV0sIFs0MC44MDMyNjg4MjQwMDAwNCwgLTczLjk0NjYxODk5Mzk5OTkzXSwgWzQwLjgwMzQyNDQ5NzAwMDA0NCwgLTczLjk1ODAxNDkwNzk5OTk1XSwgWzQwLjgwNTUwNDM0NzAwMDA3LCAtNzMuOTE2NDc3MjUxOTk5OTRdLCBbNDAuODA2NTM4MTAxMDAwMDYsIC03My45MTg5MTA1OTZdLCBbNDAuODA2NjE3ODk1MDAwMDQ1LCAtNzMuOTM2NzY1NzU0OTk5OTVdLCBbNDAuODA3MDc2MzIwMDAwMDgsIC03My45NDc4NDc3MTg5OTk5OF0sIFs0MC44MDcyOTU4NjMwMDAwNCwgLTczLjk1NDIyNjgxMDk5OTk2XSwgWzQwLjgwNzkxODc3MzAwMDA0LCAtNzMuOTE5MDE3MjgxOTk5OTddLCBbNDAuODA4MDQ0Njg4MDAwMDQ1LCAtNzMuOTExMTAyNTYwOTk5OTVdLCBbNDAuODA4Nzc3OTQzMDAwMDQ1LCAtNzMuOTIzMTMwNzAyXSwgWzQwLjgwOTYyODg1MzAwMDA0LCAtNzMuOTQxOTc1NTc4OTk5OTddLCBbNDAuODEwNDM4MDEyMDAwMDgsIC03My45NTI4Mzc0NzNdLCBbNDAuODEwNTI0NDI0MDAwMDUsIC03My45MzgyMTQyNDU5OTk5N10sIFs0MC44MTA3OTk5MDUwMDAwNzQsIC03My45MzUwNTY3MDE5OTk5NF0sIFs0MC44MTE0MTAzNTIwMDAwNDYsIC03My45Mjc3MTE5MTI5OTk5NV0sIFs0MC44MTE5ODY1MDgwMDAwNzUsIC03My45NDc1NzY1NDM5OTk5N10sIFs0MC44MTI1MjAxMzQwMDAwNzQsIC03My45MDI4MTMwMDE5OTk5N10sIFs0MC44MTI1MjUzNDgwMDAwNjUsIC03My45MjQ0MjY4OTE5OTk5OV0sIFs0MC44MTI1NDYyNjcwMDAwNywgLTczLjkwMTI2Njc4OTk5OTk3XSwgWzQwLjgxMjY0MjM2NzAwMDA4LCAtNzMuOTE1MDk1NTIyOTk5OTNdLCBbNDAuODEyODY2ODY2MDAwMDM2LCAtNzMuOTE4MTA0NTA2OTk5OTVdLCBbNDAuODEyOTUwNjM4MDAwMDc1LCAtNzMuOTU1ODgxMDkzOTk5OTVdLCBbNDAuODEzMDQ1MzY1MDAwMDUsIC03My45NDYyNjA3MzE5OTk5OF0sIFs0MC44MTMyOTI1ODgwMDAwMjQsIC03My45MTQ3MTg5ODI5OTk5M10sIFs0MC44MTM0NDY0NDUwMDAwNzUsIC03My45NDEzNDcyNzA5OTk5OF0sIFs0MC44MTM0NzQwMTUwMDAwNSwgLTczLjk0NzI4NjM2NDk5OTk3XSwgWzQwLjgxMzczOTE2MzAwMDA0LCAtNzMuOTQ0OTUyNDA0OTk5OThdLCBbNDAuODE0MDUwNTY2MDAwMDUsIC03My45MzY2OTAwNTI5OTk5NV0sIFs0MC44MTQyODY5NDQwMDAwNiwgLTczLjkyMzY0NDU1OTk5OTk2XSwgWzQwLjgxNDM1MTAyOTAwMDA4LCAtNzMuODg3ODc1NjI0OTk5OTRdLCBbNDAuODE0MzY2MDc3MDAwMDQ1LCAtNzMuOTM2NDUxMzE4OTk5OTRdLCBbNDAuODE0ODIxODE3MDAwMDQ1LCAtNzMuODg2NTQxNzUzOTk5OTVdLCBbNDAuODE1NDAyMDUwMDAwMDQ2LCAtNzMuODg3NjYwNzAzOTk5OThdLCBbNDAuODE1NjM1Nzc2MDAwMDgsIC03My44OTY5MzA1NTM5OTk5NF0sIFs0MC44MTU3MjAyNTEwMDAwNywgLTczLjg2NDUwMjU4NDk5OTk3XSwgWzQwLjgxNTc1MTE4NjAwMDA2NCwgLTczLjkzOTc0ODQxNDk5OTk0XSwgWzQwLjgxNjg5NDg2OTAwMDA3LCAtNzMuODM4ODA2MDEyOTk5OTVdLCBbNDAuODE2OTgwNTg0MDAwMDgsIC03My45MjExNTIyNTQ5OTk5OF0sIFs0MC44MTcxMTYxODkwMDAwNDYsIC03My44OTIwMzI5MTQ5OTk5N10sIFs0MC44MTcxODY1ODgwMDAwMzQsIC03My45MDY2NTAyMTA5OTk5NF0sIFs0MC44MTc4Nzg0NTIwMDAwNDUsIC03My45Mzk5NTI0MjE5OTk5OV0sIFs0MC44MTc5NDE4MzMwMDAwOCwgLTczLjg0Nzc4NTAyMTk5OTk4XSwgWzQwLjgxODE2NjEyNDAwMDA3LCAtNzMuOTA2MjQ0MTk3OTk5OTddLCBbNDAuODE4NjAwNjYwMDAwMDcsIC03My45NTI0NjMxNzU5OTk5OF0sIFs0MC44MTk1MDk2MTgwMDAwNCwgLTczLjk1MzU4MjUzNDk5OTk1XSwgWzQwLjgyMDQxMTA2MDAwMDAyNiwgLTczLjg5MzMyODI0MTk5OTk1XSwgWzQwLjgyMDQ0NTUxMjAwMDA1LCAtNzMuOTM2MjMyMzQ2OTk5OTldLCBbNDAuODIwNDg3Mjc3MDAwMDQsIC03My45NTQ5NDAzMzM5OTk5NF0sIFs0MC44MjA1MTg2NTYwMDAwNSwgLTczLjkyMTMzOTU1MDk5OTk2XSwgWzQwLjgyMDk1NDg2ODAwMDA0NCwgLTczLjg1ODAxNzQwODk5OTk0XSwgWzQwLjgyMTAyNTM5ODAwMDA4LCAtNzMuOTM3NjA0NzM2OTk5OTddLCBbNDAuODIxMjM2ODM2MDAwMDI2LCAtNzMuOTQzMDkyNzIxOTk5OTddLCBbNDAuODIxNDI3NjgyMDAwMDQsIC03My45MTQzNjg5MzE5OTk5NV0sIFs0MC44MjE0NTU5NTgwMDAwNDQsIC03My44NjYxOTk4NzM5OTk5N10sIFs0MC44MjE0NjYwNzQwMDAwNjQsIC03My45MTgxMDExNTA5OTk5Nl0sIFs0MC44MjE1ODQ2ODMwMDAwMjYsIC03My44MjE0MTU4ODc5OTk5M10sIFs0MC44MjE3MzYzMzIwMDAwNjQsIC03My44OTI4NjcyNTk5OTk5M10sIFs0MC44MjI2NjQ0NDUwMDAwNSwgLTczLjkzODQ0MTQzODk5OTk3XSwgWzQwLjgyMjgwMjQ4MjAwMDA0LCAtNzMuOTAwMzI2NjE2OTk5OTldLCBbNDAuODIyOTU0MTEzMDAwMDQsIC03My44NjgxODA0NjU5OTk5Nl0sIFs0MC44MjMwNTU4MDgwMDAwNCwgLTczLjkwNDUyODMwMDk5OTk3XSwgWzQwLjgyMzA1NjI1MjAwMDA3LCAtNzMuOTQyNDIyNzM3OTk5OTNdLCBbNDAuODIzMzkzMDM0MDAwMDUsIC03My45MTgzMzcyNDU5OTk5NV0sIFs0MC44MjM3NzkyNTAwMDAwNCwgLTczLjg5OTkyMDQ3OTk5OTkzXSwgWzQwLjgyNDE0NDI1NzAwMDA2NCwgLTczLjkxNzE3Mjg3ODk5OTk1XSwgWzQwLjgyNDE3ODMxNzAwMDA3NiwgLTczLjg5ODAyMjk1Njk5OTk3XSwgWzQwLjgyNDQxNDkxNjAwMDA4LCAtNzMuOTE1Njk4MzU3OTk5OTldLCBbNDAuODI0NDk0ODk3MDAwMDgsIC03My45MTI1Mjk0Nzc5OTk5NV0sIFs0MC44MjUwMjI3MjgwMDAwOCwgLTczLjk0NTAwMDg4Ml0sIFs0MC44MjUxODg0MDkwMDAwOCwgLTczLjkwNDQ3NDY1NTk5OTkzXSwgWzQwLjgyNTQ5NzY0MDAwMDA0LCAtNzMuOTUxMjczMTAwOTk5OTddLCBbNDAuODI1OTEzMDA2MDAwMDY0LCAtNzMuOTQ3MTE3NTI3OTk5OThdLCBbNDAuODI2MDk5NTE0MDAwMDgsIC03My44NzgxMTgwMTA5OTk5N10sIFs0MC44MjY3MDU0NDUwMDAwNywgLTczLjkwMzUyMjE3NF0sIFs0MC44MjcyODU3MzIwMDAwNjQsIC03My45MDQ5MDg4NjA5OTk5N10sIFs0MC44MjczNjg3MjYwMDAwMywgLTczLjkwMjQwNDY4NDk5OTk1XSwgWzQwLjgyODE5NzU2MzAwMDA3LCAtNzMuOTM4MDA5OTM3OTk5OTRdLCBbNDAuODI4NDczOTYxMDAwMDM2LCAtNzMuOTE4OTgxNDI0OTk5OTddLCBbNDAuODI4NTc4MTA0MDAwMDMsIC03My45MDQ0MzcyNjg5OTk5N10sIFs0MC44Mjg4MDgzODQwMDAwNywgLTczLjg5NDY2NjIwNDk5OTk1XSwgWzQwLjgyOTIxNDAxMzAwMDA3LCAtNzMuOTE3NTQyMzY5XSwgWzQwLjgyOTIyNDA5NTAwMDAyLCAtNzMuOTQzMzY0MTI1OTk5OTZdLCBbNDAuODI5NDYwOTA2MDAwMDcsIC03My45MDY1NzE1NjE5OTk5NV0sIFs0MC44Mjk5NjU2MDkwMDAwNTUsIC03My45MDI4NTYxNzY5OTk5NV0sIFs0MC44Mjk5ODgxNzMwMDAwNiwgLTczLjkxMzk4OTMzODk5OTk1XSwgWzQwLjgzMDIxMTYwMjAwMDA4LCAtNzMuOTExODIwOTQxOTk5OTVdLCBbNDAuODMwNzk4OTE0MDAwMDcsIC03My44MjY5NDg3OTU5OTk5NV0sIFs0MC44MzExMjkxNTcwMDAwOCwgLTczLjg5MDM3MzIzMTk5OTk0XSwgWzQwLjgzMTIxOTMzNzAwMDA0LCAtNzMuODUwODczMTU3OTk5OTZdLCBbNDAuODMxNDY4OTI5MDAwMDQsIC03My44NTcyMzk3MzM5OTk5NV0sIFs0MC44MzE4NjYwNDQwMDAwNCwgLTczLjg5Nzc2OTA2NF0sIFs0MC44MzIwMjIxNTQwMDAwNywgLTczLjkxNzk1ODA2Nzk5OTk4XSwgWzQwLjgzMjQxNjc1MzAwMDA3NSwgLTczLjg5MDcxNDQwNTk5OTk3XSwgWzQwLjgzMzE1NDU5OTAwMDA3NSwgLTczLjkwOTEzOTMxMDk5OTkzXSwgWzQwLjgzNDA2ODMxMDAwMDA4LCAtNzMuOTQyOTQ4MDM5OTk5OThdLCBbNDAuODM0NDI5NTc3MDAwMDQ0LCAtNzMuOTQwODkxNTEwOTk5OTZdLCBbNDAuODM0NTE2OTIxMDAwMDQ1LCAtNzMuOTE3NzA5MjU1OTk5OTddLCBbNDAuODM0NTMyNjk1MDAwMDY0LCAtNzMuODcxODI1NDgwOTk5OTZdLCBbNDAuODM0NTcxNzk2MDAwMDM0LCAtNzMuODg4MzExMzM1OTk5OTddLCBbNDAuODM0NzI1NjgwMDAwMDc2LCAtNzMuODk0MzI3OTg1OTk5OTVdLCBbNDAuODM0ODIzMDgxMDAwMDI1LCAtNzMuOTE1OTc3ODg0OTk5OThdLCBbNDAuODM1MTgxNTgzMDAwMDcsIC03My44OTQ2MzQ0MzI5OTk5OF0sIFs0MC44MzU3NjkyMjEwMDAwOCwgLTczLjkwNDM5NDQxNTk5OTkzXSwgWzQwLjgzNTkzOTYwNjAwMDA3LCAtNzMuODg2NDY1OTg4OTk5OTldLCBbNDAuODM3MDAxMDI0MDAwMDc0LCAtNzMuOTAzNzA2MDA4OTk5OTVdLCBbNDAuODM3MTE4NzQzMDAwMDc2LCAtNzMuOTEzNzI3MTQ3OTk5OThdLCBbNDAuODM3MjI4NjE5MDAwMDMsIC03My45MDY3ODQ3MTY5OTk5NF0sIFs0MC44Mzc2MzU4NzMwMDAwNywgLTczLjg4OTMyNTMxNTk5OTk0XSwgWzQwLjgzODUwMTUzOTAwMDA1LCAtNzMuODk5NTAwNzk2OTk5OTddLCBbNDAuODM4NTU5MzY0MDAwMDUsIC03My44OTY2MDU5MjI5OTk5OF0sIFs0MC44Mzg4NjE3NzEwMDAwNCwgLTczLjkxMDMwNjA2MDk5OTk3XSwgWzQwLjgzODk5ODI3ODAwMDA3NiwgLTczLjkzODUxMzA2MDk5OTk4XSwgWzQwLjgzOTQ2Njc0NjAwMDAyLCAtNzMuODg5NDgxMjg3OTk5OTZdLCBbNDAuODM5NzY4MTI5MDAwMDUsIC03My45MTQ3MjExODQ5OTk5OF0sIFs0MC44NDAwOTQwODkwMDAwNSwgLTczLjkxMzgzMTcxMTk5OTk1XSwgWzQwLjg0MDc5NTExNzAwMDAyLCAtNzMuOTIzMTk4NTE1OTk5OTZdLCBbNDAuODQxMTgzNTg1MDAwMDc0LCAtNzMuODc5ODkzODE1OTk5OTRdLCBbNDAuODQxNDUwNTk3MDAwMDYsIC03My44NjgwNDI2MTg5OTk5NF0sIFs0MC44NDI1MjExNzIwMDAwMywgLTczLjg4MDc3MzI2MTk5OTkzXSwgWzQwLjg0MjUzMzg1MzAwMDA4LCAtNzMuODQ1MjMxMzUxOTk5OThdLCBbNDAuODQyNjI1MTUzMDAwMDMsIC03My44NTIwNTgzNDM5OTk5NF0sIFs0MC44NDI2NDYzMjYwMDAwOCwgLTczLjg5MzY4MjkyMDk5OTk0XSwgWzQwLjg0MzIxNjIzNzAwMDA0LCAtNzMuOTM3Mjg3NTU2OTk5OTVdLCBbNDAuODQzODMxNjQxMDAwMDcsIC03My45MTY1NTU2Mjk5OTk5M10sIFs0MC44NDQ4NjY4MjAwMDAwNSwgLTczLjkwOTgyNDQ4OTk5OTk1XSwgWzQwLjg0NTA3OTkyNjAwMDA0LCAtNzMuODkyNjQ4OTQ5OTk5OTddLCBbNDAuODQ2MDQzOTkwMDAwMDU1LCAtNzMuODg3NTkwODg0OTk5OTVdLCBbNDAuODQ2NTI5NjcwMDAwMDQ1LCAtNzMuOTA5MjU4Mzg4OTk5OTRdLCBbNDAuODQ2NzYzNjM3MDAwMDQsIC03My45MTAxMTEwNzA5OTk5Nl0sIFs0MC44NDc5NjQ2NjAwMDAwNDUsIC03My45MTIxNjk2OTk5OTk5NF0sIFs0MC44NDc5OTM2NTEwMDAwMSwgLTczLjkxNzk5NjIwMDk5OTk0XSwgWzQwLjg0ODMwODk5NDAwMDA0LCAtNzMuOTAzNDI1Nzc5OTk5OThdLCBbNDAuODQ5MzIwNjkwMDAwMDcsIC03My45MTIzNTk0ODA5OTk5NV0sIFs0MC44NDk0MDkyODkwMDAwNSwgLTczLjkwMzAzMDE5NTk5OTk2XSwgWzQwLjg1MDA0OTYwNTAwMDA0LCAtNzMuOTAwNzQxMjI3OTk5OTddLCBbNDAuODUxMzE5ODY3MDAwMDIsIC03My45MjE0MTE1NjY5OTk5NV0sIFs0MC44NTE0MDc0MjQwMDAwNSwgLTczLjg4NTA4NDA4Nzk5OTk5XSwgWzQwLjg1MTQzODExODAwMDAzLCAtNzMuOTE3ODAwMzc2OTk5OTNdLCBbNDAuODUxNzA1MzYxMDAwMDIsIC03My45MzE5OTQ4OTI5OTk5N10sIFs0MC44NTE5NDYxNjAwMDAwNywgLTczLjkxMDc3NjM5OTk5OTk3XSwgWzQwLjg1MjA0NTU1NzAwMDA1LCAtNzMuOTMxNzQ1MTMwOTk5OTZdLCBbNDAuODUyMTQxMTg3MDAwMDIsIC03My45MjIzNzU3MjE5OTk5N10sIFs0MC44NTI2NDU3NTUwMDAwMjYsIC03My45MjE2OTkxNzg5OTk5N10sIFs0MC44NTI4NDE5OTUwMDAwNiwgLTczLjg4NDE3NDMwOTk5OTkzXSwgWzQwLjg1MzEwODkzNjAwMDA3LCAtNzMuOTI5MTQ4NjQ0OTk5OTNdLCBbNDAuODUzMzAzODk1MDAwMDc0LCAtNzMuODk5NjY2Mzk5OTk5OTNdLCBbNDAuODUzNjU4NDYzMDAwMDQ1LCAtNzMuODgyNzM0MjAxOTk5OTRdLCBbNDAuODU0MTIwMDk5MDAwMDU2LCAtNzMuODg4ODA5ODg3OTk5OThdLCBbNDAuODU0NTEwOTkwMDAwMDUsIC03My44OTI5MTkyOTk5OTk5N10sIFs0MC44NTQ1NDczNDkwMDAwMiwgLTczLjkxMzMzOTQ0Mzk5OTk3XSwgWzQwLjg1NDc2MTA5OTAwMDAyLCAtNzMuOTMzNTEwMDAzOTk5OTddLCBbNDAuODU0OTUyMzY3MDAwMDcsIC03My45MDE1Nzk3ODY5OTk5NV0sIFs0MC44NTUzNzc2OTMwMDAwNCwgLTczLjkwNDcyNzcxNzk5OTkzXSwgWzQwLjg1NTU2Nzc5MDAwMDA3LCAtNzMuODY2NjYyNjQxOTk5OTRdLCBbNDAuODU1OTA2ODkwMDAwMDIsIC03My44OTc2OTU5NjE5OTk5NF0sIFs0MC44NTYzMzA2MzMwMDAwMywgLTczLjg5NTgxMTkzMDk5OTk4XSwgWzQwLjg1NzMxMDEwNjAwMDA2NCwgLTczLjg5MjQwMTQ2NTk5OTk3XSwgWzQwLjg1ODM3MzEzMzAwMDA0LCAtNzMuODk5NDAyMDgzOTk5OTddLCBbNDAuODU4ODUwMjExMDAwMDYsIC03My45MDUyOTc1Mzk5OTk5NF0sIFs0MC44NTkxNzE5MDAwMDAwMzUsIC03My45MDk0MTEwNDk5OTk5N10sIFs0MC44NTkzODExNTkwMDAwNywgLTczLjkwNjc5NzA0OTk5OTk3XSwgWzQwLjg1OTY3Mjc4MzAwMDA3LCAtNzMuOTA0MjgwNTIxOTk5OTddLCBbNDAuODU5ODA2MzAwMDAwMDQ1LCAtNzMuOTI5NjIyMzIwOTk5OTVdLCBbNDAuODYwNjU1NTUzMDAwMDcsIC03My44OTUwMDYyMDM5OTk5OF0sIFs0MC44NjE4MjAxODYwMDAwNDUsIC03My45MjQxNDY3MzM5OTk5NV0sIFs0MC44NjE4NDI3MzAwMDAwMzUsIC03My45MDI5NTA2MDg5OTk5N10sIFs0MC44NjE4OTQ1NTkwMDAwNiwgLTczLjg1NzY2MjQ4XSwgWzQwLjg2MjY4MTI5MjAwMDA1LCAtNzMuODY1OTk3NjI5OTk5OThdLCBbNDAuODYyNzU1MjU4MDAwMDQsIC03My45MDQ0OTMwMDJdLCBbNDAuODYzMDAzMjIxMDAwMDM1LCAtNzMuOTI0MjUzODQyOTk5OTddLCBbNDAuODYzNTA3MjgxMDAwMDcsIC03My45MDQ0NjI5OTk5OTk5OF0sIFs0MC44NjM3MDA0NDcwMDAwNCwgLTczLjkwNTcyNDQ3Mjk5OTk4XSwgWzQwLjg2MzgxMzQ4NjAwMDAyNiwgLTczLjg5MDczODczMzk5OTk3XSwgWzQwLjg2NDA5NjIyMDAwMDA4LCAtNzMuOTI5NTQ1NDc0OTk5OTNdLCBbNDAuODY1NjAwOTk4MDAwMDUsIC03My45MTgxMDgyNTk5OTk5NF0sIFs0MC44NjU2NTg0NjQwMDAwNCwgLTczLjg5MTMxMDU1Nzk5OTk5XSwgWzQwLjg2NjE5OTYzNTAwMDA1LCAtNzMuODIyOTYyODA5OTk5OThdLCBbNDAuODY4NTg5MzQwMDAwMDIsIC03My44NjcyNTQ3OTk5OTk5Nl0sIFs0MC44NjkyMjMwMjcwMDAwMywgLTczLjg5MzM5NDU2Njk5OTk3XSwgWzQwLjg2OTQwODYzMTAwMDA1NiwgLTczLjg1MDQyNTk1MTk5OTk3XSwgWzQwLjg2OTg1NjQyMzAwMDA0NCwgLTczLjkxNTg4Mjk5OTk5OTk1XSwgWzQwLjg3MDA0MTI4MTAwMDA1NiwgLTczLjkwMzExMjE5Njk5OTk4XSwgWzQwLjg3MDQ3OTA2NjAwMDAzLCAtNzMuODQ2MjUxMDIxOTk5OTVdLCBbNDAuODcxMjE3MTk0MDAwMDQ2LCAtNzMuODU0NTY5MTQxOTk5OTVdLCBbNDAuODcxMjkzNDI5MDAwMDUsIC03My44NTg0ODg0NDQ5OTk5OF0sIFs0MC44NzE0NzY5NzMwMDAwMywgLTczLjg5MTA0NDMyNzk5OTk4XSwgWzQwLjg3MTUwNDkwMDAwMDA1LCAtNzMuODg4NjcyMzQ0OTk5OTddLCBbNDAuODczMjQ0NTkxMDAwMDYsIC03My44NDEzNTk2MDY5OTk5N10sIFs0MC44NzM0ODAyMTkwMDAwNSwgLTczLjg3OTYxMTI5Njk5OTk0XSwgWzQwLjg3NzA3NTY1OTAwMDA3LCAtNzMuOTA2MDk5NjU5OTk5OTRdLCBbNDAuODc4MDc1MDE2MDAwMDI1LCAtNzMuODI1OTU3ODgyOTk5OTNdLCBbNDAuODc4MTM3ODgwMDAwMDUsIC03My44Njk0MzQzMzY5OTk5N10sIFs0MC44Nzg4MTc2MjYwMDAwNjQsIC03My44NjM4NzEzNTI5OTk5OF0sIFs0MC44ODA1NTMwMzYwMDAwNCwgLTczLjg1MzI5Mzg4MTk5OTk1XSwgWzQwLjg4MDk5MjU1NTAwMDAzNCwgLTczLjg2MjUxMDc5Njk5OTk3XSwgWzQwLjg4MjY5Mzk5MDAwMDA2NCwgLTczLjgzMzE1NjgzMTk5OTk5XSwgWzQwLjg4MzExOTkyMDAwMDA3LCAtNzMuOTAzMzIwOTY4OTk5OTRdLCBbNDAuODgzMjIyMDkwMDAwMDYsIC03My44NDk5NjgxMzg5OTk5NF0sIFs0MC44ODMyMzU1NDgwMDAwNjYsIC03My44NjI5OTc5ODg5OTk5NV0sIFs0MC44ODQ3NjE1NjAwMDAwNywgLTczLjg0MzUzODE3Nzk5OTk3XSwgWzQwLjg4NDg0MzU1NjAwMDA4LCAtNzMuODUzNzQwMDg5OTk5OTddLCBbNDAuODg2NDk2NjYxMDAwMDgsIC03My44NDU5MTc0MTc5OTk5NF0sIFs0MC44ODY4MDI1OTEwMDAwNSwgLTczLjg0Njg3MTQ4OTk5OTk2XSwgWzQwLjg4NzA4OTE4ODAwMDA2LCAtNzMuODY3Nzg1NjY2OTk5OTVdLCBbNDAuODg3MzU2MDM1MDAwMDQsIC03My44NTkwMjU2Nzk5OTk5M10sIFs0MC44OTEwNDAxOTQwMDAwMywgLTczLjgzODY2NjAwNjk5OTk3XV0sCiAgICAgICAgICAgICAgICB7CiAgICAgICAgICAgICAgICAgICAgbWluT3BhY2l0eTogMC41LAogICAgICAgICAgICAgICAgICAgIG1heFpvb206IDEzLAogICAgICAgICAgICAgICAgICAgIG1heDogMS4wLAogICAgICAgICAgICAgICAgICAgIHJhZGl1czogOCwKICAgICAgICAgICAgICAgICAgICBibHVyOiAxNSwKICAgICAgICAgICAgICAgICAgICBncmFkaWVudDogbnVsbAogICAgICAgICAgICAgICAgICAgIH0pCiAgICAgICAgICAgICAgICAuYWRkVG8obWFwX2RiYzdhNDc5Y2Y4MDQwNzViM2UwZjI3MTNmZWFlMWJmKTsKICAgICAgICAKPC9zY3JpcHQ+\" style=\"position:absolute;width:100%;height:100%;left:0;top:0;border:none !important;\" allowfullscreen webkitallowfullscreen mozallowfullscreen></iframe></div></div>"
            ],
            "text/plain": [
              "<folium.folium.Map at 0x7f6c07ec3d30>"
            ]
          },
          "metadata": {
            "tags": []
          },
          "execution_count": 16
        }
      ]
    },
    {
      "cell_type": "code",
      "metadata": {
        "id": "t-GjA8M8cBnR",
        "colab_type": "code",
        "outputId": "8351b620-c9c5-4262-8726-8b7f356df870",
        "colab": {
          "base_uri": "https://localhost:8080/",
          "height": 68
        }
      },
      "source": [
        " #This is stating if a murder occured or not during an incident \n",
        " data['STATISTICAL_MURDER_FLAG'].value_counts()"
      ],
      "execution_count": 0,
      "outputs": [
        {
          "output_type": "execute_result",
          "data": {
            "text/plain": [
              "False    612\n",
              "True     137\n",
              "Name: STATISTICAL_MURDER_FLAG, dtype: int64"
            ]
          },
          "metadata": {
            "tags": []
          },
          "execution_count": 18
        }
      ]
    },
    {
      "cell_type": "code",
      "metadata": {
        "id": "SPsSGh_PSTtC",
        "colab_type": "code",
        "outputId": "df80b887-02a2-4070-db85-040503d3f477",
        "colab": {
          "base_uri": "https://localhost:8080/",
          "height": 221
        }
      },
      "source": [
        "#This is a list of the most reported incidents in a day\n",
        " data['OCCUR_DATE'].value_counts()\n"
      ],
      "execution_count": 0,
      "outputs": [
        {
          "output_type": "execute_result",
          "data": {
            "text/plain": [
              "07/05/2019    15\n",
              "09/02/2019    14\n",
              "05/26/2019    14\n",
              "07/27/2019    13\n",
              "08/11/2019    10\n",
              "              ..\n",
              "02/05/2019     1\n",
              "03/25/2019     1\n",
              "02/01/2019     1\n",
              "09/08/2019     1\n",
              "07/02/2019     1\n",
              "Name: OCCUR_DATE, Length: 231, dtype: int64"
            ]
          },
          "metadata": {
            "tags": []
          },
          "execution_count": 19
        }
      ]
    },
    {
      "cell_type": "code",
      "metadata": {
        "id": "gN7H62XPB6e_",
        "colab_type": "code",
        "outputId": "1c2ecf98-ed05-47f0-cc68-3edf94bc7f68",
        "colab": {
          "base_uri": "https://localhost:8080/",
          "height": 238
        }
      },
      "source": [
        "#This is a list of places where incidents took place in the most\n",
        "data['LOCATION_DESC'].value_counts()"
      ],
      "execution_count": 0,
      "outputs": [
        {
          "output_type": "execute_result",
          "data": {
            "text/plain": [
              "MULTI DWELL - PUBLIC HOUS    154\n",
              "MULTI DWELL - APT BUILD       37\n",
              "PVT HOUSE                     20\n",
              "GROCERY/BODEGA                19\n",
              "BAR/NIGHT CLUB                 6\n",
              "GAS STATION                    2\n",
              "HOSPITAL                       2\n",
              "RESTAURANT/DINER               1\n",
              "DRUG STORE                     1\n",
              "FAST FOOD                      1\n",
              "LIQUOR STORE                   1\n",
              "SOCIAL CLUB/POLICY LOCATI      1\n",
              "Name: LOCATION_DESC, dtype: int64"
            ]
          },
          "metadata": {
            "tags": []
          },
          "execution_count": 20
        }
      ]
    },
    {
      "cell_type": "code",
      "metadata": {
        "id": "jDuBhIiib7Hg",
        "colab_type": "code",
        "outputId": "f5203626-259d-4114-fcb6-d497fe79991d",
        "colab": {
          "base_uri": "https://localhost:8080/",
          "height": 612
        }
      },
      "source": [
        "#List of places where incidents occured on pie graph\n",
        "data['LOCATION_DESC'].value_counts().plot.pie(figsize=(10, 10))"
      ],
      "execution_count": 0,
      "outputs": [
        {
          "output_type": "execute_result",
          "data": {
            "text/plain": [
              "<matplotlib.axes._subplots.AxesSubplot at 0x7ffa76d6cc50>"
            ]
          },
          "metadata": {
            "tags": []
          },
          "execution_count": 21
        },
        {
          "output_type": "display_data",
          "data": {
            "image/png": "[encoded data removed]",
            "text/plain": [
              "<Figure size 720x720 with 1 Axes>"
            ]
          },
          "metadata": {
            "tags": []
          }
        }
      ]
    },
    {
      "cell_type": "code",
      "metadata": {
        "id": "wZ9GCRlsJVwr",
        "colab_type": "code",
        "outputId": "ab932cf3-4bcf-4e91-8de8-9cac9e2c6f83",
        "colab": {
          "base_uri": "https://localhost:8080/",
          "height": 136
        }
      },
      "source": [
        "#Race of victims\n",
        "data['VIC_RACE'].value_counts()"
      ],
      "execution_count": 0,
      "outputs": [
        {
          "output_type": "execute_result",
          "data": {
            "text/plain": [
              "BLACK                       513\n",
              "WHITE HISPANIC              133\n",
              "BLACK HISPANIC               57\n",
              "WHITE                        18\n",
              "UNKNOWN                      14\n",
              "ASIAN / PACIFIC ISLANDER     14\n",
              "Name: VIC_RACE, dtype: int64"
            ]
          },
          "metadata": {
            "tags": []
          },
          "execution_count": 22
        }
      ]
    },
    {
      "cell_type": "code",
      "metadata": {
        "id": "oRgX0TawOOO0",
        "colab_type": "code",
        "outputId": "d17efda8-e599-45ed-dd00-b0a2beccaecf",
        "colab": {
          "base_uri": "https://localhost:8080/",
          "height": 612
        }
      },
      "source": [
        "#Race of victims on pie graph\n",
        "data['VIC_RACE'].value_counts().plot.pie(figsize=(10, 10))"
      ],
      "execution_count": 0,
      "outputs": [
        {
          "output_type": "execute_result",
          "data": {
            "text/plain": [
              "<matplotlib.axes._subplots.AxesSubplot at 0x7ffa76cd0438>"
            ]
          },
          "metadata": {
            "tags": []
          },
          "execution_count": 23
        },
        {
          "output_type": "display_data",
          "data": {
            "image/png": "[encoded data removed]",
            "text/plain": [
              "<Figure size 720x720 with 1 Axes>"
            ]
          },
          "metadata": {
            "tags": []
          }
        }
      ]
    },
    {
      "cell_type": "code",
      "metadata": {
        "id": "nNpR9wctBKrN",
        "colab_type": "code",
        "outputId": "0f846c2f-40b8-4d0e-c420-1c94b233ae5c",
        "colab": {
          "base_uri": "https://localhost:8080/",
          "height": 136
        }
      },
      "source": [
        "#Numbers of victims per age group\n",
        "data['VIC_AGE_GROUP'].value_counts()"
      ],
      "execution_count": 0,
      "outputs": [
        {
          "output_type": "execute_result",
          "data": {
            "text/plain": [
              "25-44      403\n",
              "18-24      202\n",
              "45-64       79\n",
              "<18         54\n",
              "UNKNOWN      7\n",
              "65+          4\n",
              "Name: VIC_AGE_GROUP, dtype: int64"
            ]
          },
          "metadata": {
            "tags": []
          },
          "execution_count": 24
        }
      ]
    },
    {
      "cell_type": "code",
      "metadata": {
        "id": "TAjhTGqCBSSH",
        "colab_type": "code",
        "outputId": "21e91077-1ccc-4371-c296-4454139b94d0",
        "colab": {
          "base_uri": "https://localhost:8080/",
          "height": 592
        }
      },
      "source": [
        "#Victims age group on pie chart\n",
        "#Highest amount of vicitims tend to be between 25-44\n",
        "#followed by 18-24 and then follwed by people below the age of 18\n",
        "#the rest are the elderly and unknown \n",
        "data['VIC_AGE_GROUP'].value_counts().plot.pie(figsize=(10, 10))"
      ],
      "execution_count": 0,
      "outputs": [
        {
          "output_type": "execute_result",
          "data": {
            "text/plain": [
              "<matplotlib.axes._subplots.AxesSubplot at 0x7ffa76c26978>"
            ]
          },
          "metadata": {
            "tags": []
          },
          "execution_count": 25
        },
        {
          "output_type": "display_data",
          "data": {
            "image/png": "[encoded data removed]",
            "text/plain": [
              "<Figure size 720x720 with 1 Axes>"
            ]
          },
          "metadata": {
            "tags": []
          }
        }
      ]
    },
    {
      "cell_type": "code",
      "metadata": {
        "id": "AuEFB6PJUvRh",
        "colab_type": "code",
        "outputId": "9ba0de40-f4ab-4a63-82ba-b78663789b20",
        "colab": {
          "base_uri": "https://localhost:8080/",
          "height": 85
        }
      },
      "source": [
        "# Most of the vitims were male with a significant \n",
        "# amount Females according to the graph\n",
        "data['VIC_SEX'].value_counts()"
      ],
      "execution_count": 0,
      "outputs": [
        {
          "output_type": "execute_result",
          "data": {
            "text/plain": [
              "M    674\n",
              "F     74\n",
              "U      1\n",
              "Name: VIC_SEX, dtype: int64"
            ]
          },
          "metadata": {
            "tags": []
          },
          "execution_count": 54
        }
      ]
    },
    {
      "cell_type": "code",
      "metadata": {
        "id": "DNH9jCvsUpof",
        "colab_type": "code",
        "outputId": "dfaae54a-3387-4d16-e380-0d13b0fa20c9",
        "colab": {
          "base_uri": "https://localhost:8080/",
          "height": 592
        }
      },
      "source": [
        "data['VIC_SEX'].value_counts().plot.pie(figsize=(10, 10))"
      ],
      "execution_count": 0,
      "outputs": [
        {
          "output_type": "execute_result",
          "data": {
            "text/plain": [
              "<matplotlib.axes._subplots.AxesSubplot at 0x7f510a234390>"
            ]
          },
          "metadata": {
            "tags": []
          },
          "execution_count": 53
        },
        {
          "output_type": "display_data",
          "data": {
            "image/png": "[encoded data removed]",
            "text/plain": [
              "<Figure size 720x720 with 1 Axes>"
            ]
          },
          "metadata": {
            "tags": []
          }
        }
      ]
    },
    {
      "cell_type": "code",
      "metadata": {
        "id": "XUWBqLEAJCiT",
        "colab_type": "code",
        "outputId": "24a58f7e-a29f-4ec9-fdb7-90db115ab69b",
        "colab": {
          "base_uri": "https://localhost:8080/",
          "height": 136
        }
      },
      "source": [
        "#Perpitrators race\n",
        "data['PERP_RACE'].value_counts()"
      ],
      "execution_count": 0,
      "outputs": [
        {
          "output_type": "execute_result",
          "data": {
            "text/plain": [
              "BLACK                       268\n",
              "WHITE HISPANIC               57\n",
              "UNKNOWN                      28\n",
              "BLACK HISPANIC               21\n",
              "WHITE                        10\n",
              "ASIAN / PACIFIC ISLANDER      4\n",
              "Name: PERP_RACE, dtype: int64"
            ]
          },
          "metadata": {
            "tags": []
          },
          "execution_count": 26
        }
      ]
    },
    {
      "cell_type": "code",
      "metadata": {
        "id": "ksYCt9zsb7Hd",
        "colab_type": "code",
        "outputId": "de298fbb-d7a4-45f0-cfe4-ef236fcdd5ce",
        "colab": {
          "base_uri": "https://localhost:8080/",
          "height": 612
        }
      },
      "source": [
        "#Race of perpitrators \n",
        "data['PERP_RACE'].value_counts().plot.pie(figsize=(10, 10))"
      ],
      "execution_count": 0,
      "outputs": [
        {
          "output_type": "execute_result",
          "data": {
            "text/plain": [
              "<matplotlib.axes._subplots.AxesSubplot at 0x7ffa76d52e48>"
            ]
          },
          "metadata": {
            "tags": []
          },
          "execution_count": 27
        },
        {
          "output_type": "display_data",
          "data": {
            "image/png": "[encoded data removed]",
            "text/plain": [
              "<Figure size 720x720 with 1 Axes>"
            ]
          },
          "metadata": {
            "tags": []
          }
        }
      ]
    },
    {
      "cell_type": "code",
      "metadata": {
        "id": "l8NrcqxdI0pQ",
        "colab_type": "code",
        "outputId": "b0f5df4d-94ab-4b4a-a05c-7352404a9eb1",
        "colab": {
          "base_uri": "https://localhost:8080/",
          "height": 136
        }
      },
      "source": [
        "#Age group of perpitrators race\n",
        "data['PERP_AGE_GROUP'].value_counts()"
      ],
      "execution_count": 0,
      "outputs": [
        {
          "output_type": "execute_result",
          "data": {
            "text/plain": [
              "25-44      169\n",
              "18-24      147\n",
              "<18         41\n",
              "45-64       18\n",
              "UNKNOWN     10\n",
              "65+          3\n",
              "Name: PERP_AGE_GROUP, dtype: int64"
            ]
          },
          "metadata": {
            "tags": []
          },
          "execution_count": 28
        }
      ]
    },
    {
      "cell_type": "code",
      "metadata": {
        "id": "tyBGng6zb7He",
        "colab_type": "code",
        "outputId": "78679b46-0cef-4216-abac-62fbbcfb2164",
        "colab": {
          "base_uri": "https://localhost:8080/",
          "height": 592
        }
      },
      "source": [
        "#Age group of perpitrators\n",
        "#according to the graph below the highest amount of the perpitrators tend to be \n",
        "#between ages tha range from 25-44 followed by 18-24, and below 18 follows third\n",
        "data['PERP_AGE_GROUP'].value_counts().plot.pie(figsize=(10, 10))"
      ],
      "execution_count": 0,
      "outputs": [
        {
          "output_type": "execute_result",
          "data": {
            "text/plain": [
              "<matplotlib.axes._subplots.AxesSubplot at 0x7ffa76e5d4e0>"
            ]
          },
          "metadata": {
            "tags": []
          },
          "execution_count": 29
        },
        {
          "output_type": "display_data",
          "data": {
            "image/png": "[encoded data removed]",
            "text/plain": [
              "<Figure size 720x720 with 1 Axes>"
            ]
          },
          "metadata": {
            "tags": []
          }
        }
      ]
    },
    {
      "cell_type": "code",
      "metadata": {
        "id": "B3q0-GBiUY8a",
        "colab_type": "code",
        "outputId": "6dc5b670-ff73-46f4-aaa5-44d8b95cf5cd",
        "colab": {
          "base_uri": "https://localhost:8080/",
          "height": 85
        }
      },
      "source": [
        "#Most of the perpitrators were idendtified as male\n",
        "data['PERP_SEX'].value_counts()"
      ],
      "execution_count": 0,
      "outputs": [
        {
          "output_type": "execute_result",
          "data": {
            "text/plain": [
              "M    371\n",
              "U     11\n",
              "F      6\n",
              "Name: PERP_SEX, dtype: int64"
            ]
          },
          "metadata": {
            "tags": []
          },
          "execution_count": 52
        }
      ]
    },
    {
      "cell_type": "code",
      "metadata": {
        "id": "SBFZ0TXgT8AC",
        "colab_type": "code",
        "outputId": "7d4cc9fa-b4a4-43e4-ee6c-039dcd69a9ec",
        "colab": {
          "base_uri": "https://localhost:8080/",
          "height": 592
        }
      },
      "source": [
        "data['PERP_SEX'].value_counts().plot.pie(figsize=(10, 10))"
      ],
      "execution_count": 0,
      "outputs": [
        {
          "output_type": "execute_result",
          "data": {
            "text/plain": [
              "<matplotlib.axes._subplots.AxesSubplot at 0x7f510a11a668>"
            ]
          },
          "metadata": {
            "tags": []
          },
          "execution_count": 51
        },
        {
          "output_type": "display_data",
          "data": {
            "image/png": "[encoded data removed]",
            "text/plain": [
              "<Figure size 720x720 with 1 Axes>"
            ]
          },
          "metadata": {
            "tags": []
          }
        }
      ]
    },
    {
      "cell_type": "code",
      "metadata": {
        "id": "upxg1beBd2CI",
        "colab_type": "code",
        "outputId": "a5395bb5-3c33-487a-f91b-bb5e848e1ef2",
        "colab": {
          "base_uri": "https://localhost:8080/",
          "height": 379
        }
      },
      "source": [
        "#converting datatypes to categorical correlating them\n",
        "data['LOCATION_DESC']=data['LOCATION_DESC'].astype('category').cat.codes\n",
        "data['PERP_RACE']=data['PERP_RACE'].astype('category').cat.codes\n",
        "data.corr()"
      ],
      "execution_count": 0,
      "outputs": [
        {
          "output_type": "execute_result",
          "data": {
            "text/html": [
              "<div>\n",
              "<style scoped>\n",
              "    .dataframe tbody tr th:only-of-type {\n",
              "        vertical-align: middle;\n",
              "    }\n",
              "\n",
              "    .dataframe tbody tr th {\n",
              "        vertical-align: top;\n",
              "    }\n",
              "\n",
              "    .dataframe thead th {\n",
              "        text-align: right;\n",
              "    }\n",
              "</style>\n",
              "<table border=\"1\" class=\"dataframe\">\n",
              "  <thead>\n",
              "    <tr style=\"text-align: right;\">\n",
              "      <th></th>\n",
              "      <th>INCIDENT_KEY</th>\n",
              "      <th>PRECINCT</th>\n",
              "      <th>JURISDICTION_CODE</th>\n",
              "      <th>LOCATION_DESC</th>\n",
              "      <th>STATISTICAL_MURDER_FLAG</th>\n",
              "      <th>PERP_RACE</th>\n",
              "      <th>X_COORD_CD</th>\n",
              "      <th>Y_COORD_CD</th>\n",
              "      <th>Latitude</th>\n",
              "      <th>Longitude</th>\n",
              "    </tr>\n",
              "  </thead>\n",
              "  <tbody>\n",
              "    <tr>\n",
              "      <th>INCIDENT_KEY</th>\n",
              "      <td>1.000000</td>\n",
              "      <td>-0.007830</td>\n",
              "      <td>-0.037017</td>\n",
              "      <td>-0.030657</td>\n",
              "      <td>-0.011528</td>\n",
              "      <td>-0.021096</td>\n",
              "      <td>-0.004843</td>\n",
              "      <td>-0.035188</td>\n",
              "      <td>-0.035181</td>\n",
              "      <td>-0.004974</td>\n",
              "    </tr>\n",
              "    <tr>\n",
              "      <th>PRECINCT</th>\n",
              "      <td>-0.007830</td>\n",
              "      <td>1.000000</td>\n",
              "      <td>-0.126873</td>\n",
              "      <td>-0.100699</td>\n",
              "      <td>0.014629</td>\n",
              "      <td>-0.011339</td>\n",
              "      <td>0.290313</td>\n",
              "      <td>-0.607878</td>\n",
              "      <td>-0.608212</td>\n",
              "      <td>0.289368</td>\n",
              "    </tr>\n",
              "    <tr>\n",
              "      <th>JURISDICTION_CODE</th>\n",
              "      <td>-0.037017</td>\n",
              "      <td>-0.126873</td>\n",
              "      <td>1.000000</td>\n",
              "      <td>0.777354</td>\n",
              "      <td>0.012767</td>\n",
              "      <td>-0.027180</td>\n",
              "      <td>-0.113951</td>\n",
              "      <td>0.089119</td>\n",
              "      <td>0.089230</td>\n",
              "      <td>-0.113908</td>\n",
              "    </tr>\n",
              "    <tr>\n",
              "      <th>LOCATION_DESC</th>\n",
              "      <td>-0.030657</td>\n",
              "      <td>-0.100699</td>\n",
              "      <td>0.777354</td>\n",
              "      <td>1.000000</td>\n",
              "      <td>0.051519</td>\n",
              "      <td>-0.004658</td>\n",
              "      <td>-0.099569</td>\n",
              "      <td>0.049584</td>\n",
              "      <td>0.049695</td>\n",
              "      <td>-0.099553</td>\n",
              "    </tr>\n",
              "    <tr>\n",
              "      <th>STATISTICAL_MURDER_FLAG</th>\n",
              "      <td>-0.011528</td>\n",
              "      <td>0.014629</td>\n",
              "      <td>0.012767</td>\n",
              "      <td>0.051519</td>\n",
              "      <td>1.000000</td>\n",
              "      <td>-0.010623</td>\n",
              "      <td>0.039657</td>\n",
              "      <td>0.003174</td>\n",
              "      <td>0.003159</td>\n",
              "      <td>0.039677</td>\n",
              "    </tr>\n",
              "    <tr>\n",
              "      <th>PERP_RACE</th>\n",
              "      <td>-0.021096</td>\n",
              "      <td>-0.011339</td>\n",
              "      <td>-0.027180</td>\n",
              "      <td>-0.004658</td>\n",
              "      <td>-0.010623</td>\n",
              "      <td>1.000000</td>\n",
              "      <td>0.007411</td>\n",
              "      <td>0.153796</td>\n",
              "      <td>0.153774</td>\n",
              "      <td>0.007765</td>\n",
              "    </tr>\n",
              "    <tr>\n",
              "      <th>X_COORD_CD</th>\n",
              "      <td>-0.004843</td>\n",
              "      <td>0.290313</td>\n",
              "      <td>-0.113951</td>\n",
              "      <td>-0.099569</td>\n",
              "      <td>0.039657</td>\n",
              "      <td>0.007411</td>\n",
              "      <td>1.000000</td>\n",
              "      <td>0.070616</td>\n",
              "      <td>0.069992</td>\n",
              "      <td>0.999998</td>\n",
              "    </tr>\n",
              "    <tr>\n",
              "      <th>Y_COORD_CD</th>\n",
              "      <td>-0.035188</td>\n",
              "      <td>-0.607878</td>\n",
              "      <td>0.089119</td>\n",
              "      <td>0.049584</td>\n",
              "      <td>0.003174</td>\n",
              "      <td>0.153796</td>\n",
              "      <td>0.070616</td>\n",
              "      <td>1.000000</td>\n",
              "      <td>1.000000</td>\n",
              "      <td>0.072481</td>\n",
              "    </tr>\n",
              "    <tr>\n",
              "      <th>Latitude</th>\n",
              "      <td>-0.035181</td>\n",
              "      <td>-0.608212</td>\n",
              "      <td>0.089230</td>\n",
              "      <td>0.049695</td>\n",
              "      <td>0.003159</td>\n",
              "      <td>0.153774</td>\n",
              "      <td>0.069992</td>\n",
              "      <td>1.000000</td>\n",
              "      <td>1.000000</td>\n",
              "      <td>0.071857</td>\n",
              "    </tr>\n",
              "    <tr>\n",
              "      <th>Longitude</th>\n",
              "      <td>-0.004974</td>\n",
              "      <td>0.289368</td>\n",
              "      <td>-0.113908</td>\n",
              "      <td>-0.099553</td>\n",
              "      <td>0.039677</td>\n",
              "      <td>0.007765</td>\n",
              "      <td>0.999998</td>\n",
              "      <td>0.072481</td>\n",
              "      <td>0.071857</td>\n",
              "      <td>1.000000</td>\n",
              "    </tr>\n",
              "  </tbody>\n",
              "</table>\n",
              "</div>"
            ],
            "text/plain": [
              "                         INCIDENT_KEY  PRECINCT  ...  Latitude  Longitude\n",
              "INCIDENT_KEY                 1.000000 -0.007830  ... -0.035181  -0.004974\n",
              "PRECINCT                    -0.007830  1.000000  ... -0.608212   0.289368\n",
              "JURISDICTION_CODE           -0.037017 -0.126873  ...  0.089230  -0.113908\n",
              "LOCATION_DESC               -0.030657 -0.100699  ...  0.049695  -0.099553\n",
              "STATISTICAL_MURDER_FLAG     -0.011528  0.014629  ...  0.003159   0.039677\n",
              "PERP_RACE                   -0.021096 -0.011339  ...  0.153774   0.007765\n",
              "X_COORD_CD                  -0.004843  0.290313  ...  0.069992   0.999998\n",
              "Y_COORD_CD                  -0.035188 -0.607878  ...  1.000000   0.072481\n",
              "Latitude                    -0.035181 -0.608212  ...  1.000000   0.071857\n",
              "Longitude                   -0.004974  0.289368  ...  0.071857   1.000000\n",
              "\n",
              "[10 rows x 10 columns]"
            ]
          },
          "metadata": {
            "tags": []
          },
          "execution_count": 30
        }
      ]
    },
    {
      "cell_type": "code",
      "metadata": {
        "id": "05IvcNbKXG-s",
        "colab_type": "code",
        "outputId": "3ed3231f-31f1-45f2-cbf0-20108f117447",
        "colab": {
          "base_uri": "https://localhost:8080/",
          "height": 119
        }
      },
      "source": [
        "#numbers indicate how many incidents were reported by boro\n",
        "#most incidents occured in Brooklyn followed by the bronx  then Queens\n",
        "data['BORO'].value_counts()"
      ],
      "execution_count": 0,
      "outputs": [
        {
          "output_type": "execute_result",
          "data": {
            "text/plain": [
              "BROOKLYN         288\n",
              "BRONX            199\n",
              "QUEENS           131\n",
              "MANHATTAN        115\n",
              "STATEN ISLAND     16\n",
              "Name: BORO, dtype: int64"
            ]
          },
          "metadata": {
            "tags": []
          },
          "execution_count": 31
        }
      ]
    },
    {
      "cell_type": "code",
      "metadata": {
        "id": "5e1IREBKG5xZ",
        "colab_type": "code",
        "outputId": "6c468f83-abc3-444e-d8a9-681b0f5cb0e7",
        "colab": {
          "base_uri": "https://localhost:8080/",
          "height": 298
        }
      },
      "source": [
        "#Data showing places with the highest crime rates\n",
        "plt.title(\"Boro w/ Reported Incidents\")\n",
        "data['BORO'].hist(bins=20)\n"
      ],
      "execution_count": 0,
      "outputs": [
        {
          "output_type": "execute_result",
          "data": {
            "text/plain": [
              "<matplotlib.axes._subplots.AxesSubplot at 0x7ffa76dc1400>"
            ]
          },
          "metadata": {
            "tags": []
          },
          "execution_count": 32
        },
        {
          "output_type": "display_data",
          "data": {
            "image/png": "[encoded data removed]",
            "text/plain": [
              "<Figure size 432x288 with 1 Axes>"
            ]
          },
          "metadata": {
            "tags": []
          }
        }
      ]
    },
    {
      "cell_type": "code",
      "metadata": {
        "id": "dkidqG-zan-V",
        "colab_type": "code",
        "outputId": "b812e0f1-ff07-4d88-849c-fc8a1a4468f8",
        "colab": {
          "base_uri": "https://localhost:8080/",
          "height": 34
        }
      },
      "source": [
        "#This right here shows the time that the incidents occur the most in the day 10:53pm came up 11 times?\n",
        "data = data.dropna(subset=['OCCUR_TIME'])\n",
        "\n",
        "data['OCCUR_TIME'].value_counts().max()"
      ],
      "execution_count": 0,
      "outputs": [
        {
          "output_type": "execute_result",
          "data": {
            "text/plain": [
              "11"
            ]
          },
          "metadata": {
            "tags": []
          },
          "execution_count": 63
        }
      ]
    },
    {
      "cell_type": "code",
      "metadata": {
        "id": "R5KAkA9Eg6Cx",
        "colab_type": "code",
        "outputId": "6e5175d9-9fca-4d65-a54d-c3217853f9d2",
        "colab": {
          "base_uri": "https://localhost:8080/",
          "height": 34
        }
      },
      "source": [
        "#identifying the max \n",
        "data['OCCUR_TIME'].value_counts().idxmax()"
      ],
      "execution_count": 0,
      "outputs": [
        {
          "output_type": "execute_result",
          "data": {
            "text/plain": [
              "'22:53:00'"
            ]
          },
          "metadata": {
            "tags": []
          },
          "execution_count": 34
        }
      ]
    },
    {
      "cell_type": "code",
      "metadata": {
        "id": "8gNRya62h6i2",
        "colab_type": "code",
        "colab": {}
      },
      "source": [
        "#stringDate =data['OCCUR_TIME'].astype(str).tolist()\n",
        "#stringLoc = data['LOCATION_DESC'].astype(str).tolist()\n",
        "#stringDate "
      ],
      "execution_count": 0,
      "outputs": []
    },
    {
      "cell_type": "code",
      "metadata": {
        "id": "95QQHYqRLPls",
        "colab_type": "code",
        "outputId": "54bbd951-9b4a-4bb3-9c00-507aefae8fdb",
        "colab": {
          "base_uri": "https://localhost:8080/",
          "height": 309
        }
      },
      "source": [
        "data1.head()"
      ],
      "execution_count": 0,
      "outputs": [
        {
          "output_type": "execute_result",
          "data": {
            "text/html": [
              "<div>\n",
              "<style scoped>\n",
              "    .dataframe tbody tr th:only-of-type {\n",
              "        vertical-align: middle;\n",
              "    }\n",
              "\n",
              "    .dataframe tbody tr th {\n",
              "        vertical-align: top;\n",
              "    }\n",
              "\n",
              "    .dataframe thead th {\n",
              "        text-align: right;\n",
              "    }\n",
              "</style>\n",
              "<table border=\"1\" class=\"dataframe\">\n",
              "  <thead>\n",
              "    <tr style=\"text-align: right;\">\n",
              "      <th></th>\n",
              "      <th>INCIDENT_KEY</th>\n",
              "      <th>OCCUR_DATE</th>\n",
              "      <th>OCCUR_TIME</th>\n",
              "      <th>BORO</th>\n",
              "      <th>PRECINCT</th>\n",
              "      <th>JURISDICTION_CODE</th>\n",
              "      <th>LOCATION_DESC</th>\n",
              "      <th>STATISTICAL_MURDER_FLAG</th>\n",
              "      <th>PERP_AGE_GROUP</th>\n",
              "      <th>PERP_SEX</th>\n",
              "      <th>PERP_RACE</th>\n",
              "      <th>VIC_AGE_GROUP</th>\n",
              "      <th>VIC_SEX</th>\n",
              "      <th>VIC_RACE</th>\n",
              "      <th>X_COORD_CD</th>\n",
              "      <th>Y_COORD_CD</th>\n",
              "      <th>Latitude</th>\n",
              "      <th>Longitude</th>\n",
              "    </tr>\n",
              "  </thead>\n",
              "  <tbody>\n",
              "    <tr>\n",
              "      <th>0</th>\n",
              "      <td>203083804</td>\n",
              "      <td>09/30/2019</td>\n",
              "      <td>13:49:00</td>\n",
              "      <td>MANHATTAN</td>\n",
              "      <td>23</td>\n",
              "      <td>2.0</td>\n",
              "      <td>MULTI DWELL - PUBLIC HOUS</td>\n",
              "      <td>False</td>\n",
              "      <td>18-24</td>\n",
              "      <td>M</td>\n",
              "      <td>BLACK</td>\n",
              "      <td>18-24</td>\n",
              "      <td>M</td>\n",
              "      <td>BLACK</td>\n",
              "      <td>998869</td>\n",
              "      <td>230618</td>\n",
              "      <td>40.799665</td>\n",
              "      <td>-73.947200</td>\n",
              "    </tr>\n",
              "    <tr>\n",
              "      <th>1</th>\n",
              "      <td>203083804</td>\n",
              "      <td>09/30/2019</td>\n",
              "      <td>13:49:00</td>\n",
              "      <td>MANHATTAN</td>\n",
              "      <td>23</td>\n",
              "      <td>2.0</td>\n",
              "      <td>MULTI DWELL - PUBLIC HOUS</td>\n",
              "      <td>True</td>\n",
              "      <td>18-24</td>\n",
              "      <td>M</td>\n",
              "      <td>BLACK</td>\n",
              "      <td>18-24</td>\n",
              "      <td>M</td>\n",
              "      <td>BLACK</td>\n",
              "      <td>998869</td>\n",
              "      <td>230618</td>\n",
              "      <td>40.799665</td>\n",
              "      <td>-73.947200</td>\n",
              "    </tr>\n",
              "    <tr>\n",
              "      <th>4</th>\n",
              "      <td>203041424</td>\n",
              "      <td>09/29/2019</td>\n",
              "      <td>00:35:00</td>\n",
              "      <td>BRONX</td>\n",
              "      <td>47</td>\n",
              "      <td>2.0</td>\n",
              "      <td>MULTI DWELL - PUBLIC HOUS</td>\n",
              "      <td>True</td>\n",
              "      <td>25-44</td>\n",
              "      <td>M</td>\n",
              "      <td>BLACK</td>\n",
              "      <td>25-44</td>\n",
              "      <td>M</td>\n",
              "      <td>WHITE</td>\n",
              "      <td>1026855</td>\n",
              "      <td>262287</td>\n",
              "      <td>40.886497</td>\n",
              "      <td>-73.845917</td>\n",
              "    </tr>\n",
              "    <tr>\n",
              "      <th>17</th>\n",
              "      <td>202944932</td>\n",
              "      <td>09/26/2019</td>\n",
              "      <td>02:30:00</td>\n",
              "      <td>BRONX</td>\n",
              "      <td>40</td>\n",
              "      <td>2.0</td>\n",
              "      <td>MULTI DWELL - PUBLIC HOUS</td>\n",
              "      <td>False</td>\n",
              "      <td>25-44</td>\n",
              "      <td>F</td>\n",
              "      <td>BLACK HISPANIC</td>\n",
              "      <td>25-44</td>\n",
              "      <td>M</td>\n",
              "      <td>BLACK</td>\n",
              "      <td>1005170</td>\n",
              "      <td>235308</td>\n",
              "      <td>40.812525</td>\n",
              "      <td>-73.924427</td>\n",
              "    </tr>\n",
              "    <tr>\n",
              "      <th>21</th>\n",
              "      <td>202853371</td>\n",
              "      <td>09/24/2019</td>\n",
              "      <td>17:45:00</td>\n",
              "      <td>BROOKLYN</td>\n",
              "      <td>73</td>\n",
              "      <td>2.0</td>\n",
              "      <td>MULTI DWELL - PUBLIC HOUS</td>\n",
              "      <td>False</td>\n",
              "      <td>18-24</td>\n",
              "      <td>M</td>\n",
              "      <td>BLACK</td>\n",
              "      <td>18-24</td>\n",
              "      <td>M</td>\n",
              "      <td>BLACK</td>\n",
              "      <td>1006117</td>\n",
              "      <td>183402</td>\n",
              "      <td>40.670054</td>\n",
              "      <td>-73.921175</td>\n",
              "    </tr>\n",
              "  </tbody>\n",
              "</table>\n",
              "</div>"
            ],
            "text/plain": [
              "    INCIDENT_KEY  OCCUR_DATE OCCUR_TIME  ... Y_COORD_CD   Latitude  Longitude\n",
              "0      203083804  09/30/2019   13:49:00  ...     230618  40.799665 -73.947200\n",
              "1      203083804  09/30/2019   13:49:00  ...     230618  40.799665 -73.947200\n",
              "4      203041424  09/29/2019   00:35:00  ...     262287  40.886497 -73.845917\n",
              "17     202944932  09/26/2019   02:30:00  ...     235308  40.812525 -73.924427\n",
              "21     202853371  09/24/2019   17:45:00  ...     183402  40.670054 -73.921175\n",
              "\n",
              "[5 rows x 18 columns]"
            ]
          },
          "metadata": {
            "tags": []
          },
          "execution_count": 62
        }
      ]
    },
    {
      "cell_type": "code",
      "metadata": {
        "id": "4vjZy8TLLbM6",
        "colab_type": "code",
        "outputId": "cfba3c8e-9ad3-44b7-a1d8-fa30473524eb",
        "colab": {
          "base_uri": "https://localhost:8080/",
          "height": 34
        }
      },
      "source": [
        "data['PRECINCT'].value_counts().max()"
      ],
      "execution_count": 0,
      "outputs": [
        {
          "output_type": "execute_result",
          "data": {
            "text/plain": [
              "60"
            ]
          },
          "metadata": {
            "tags": []
          },
          "execution_count": 64
        }
      ]
    },
    {
      "cell_type": "code",
      "metadata": {
        "id": "MykBDCd7W0xj",
        "colab_type": "code",
        "outputId": "9bfa2093-77f3-43e5-8f0d-76cf8ce7c76b",
        "colab": {
          "base_uri": "https://localhost:8080/",
          "height": 544
        }
      },
      "source": [
        "#According to the Data the place with the most type of incidents reported is \n",
        "#around the area where the 75th precient is located with  reported 6o incidents\n",
        "\n",
        "prInfo = data['PRECINCT'].value_counts()\n",
        "pr.head(30)"
      ],
      "execution_count": 0,
      "outputs": [
        {
          "output_type": "execute_result",
          "data": {
            "text/plain": [
              "75     60\n",
              "73     41\n",
              "42     30\n",
              "46     29\n",
              "113    29\n",
              "23     26\n",
              "67     26\n",
              "77     25\n",
              "79     25\n",
              "40     22\n",
              "81     21\n",
              "44     21\n",
              "47     18\n",
              "48     17\n",
              "32     16\n",
              "114    16\n",
              "52     14\n",
              "60     14\n",
              "105    14\n",
              "101    14\n",
              "41     14\n",
              "25     14\n",
              "70     13\n",
              "34     13\n",
              "49     12\n",
              "83     12\n",
              "43     11\n",
              "71     11\n",
              "28     10\n",
              "109    10\n",
              "Name: PRECINCT, dtype: int64"
            ]
          },
          "metadata": {
            "tags": []
          },
          "execution_count": 79
        }
      ]
    },
    {
      "cell_type": "code",
      "metadata": {
        "id": "GIZZBQgyahLc",
        "colab_type": "code",
        "outputId": "1e163a84-332e-41be-beb8-7f4ef849ad0a",
        "colab": {
          "base_uri": "https://localhost:8080/",
          "height": 609
        }
      },
      "source": [
        "data.dropna(inplace = True) \n",
        "sub ='BRONX'\n",
        "data[\"Indexes\"]= data[\"BORO\"].str.find(sub)\n",
        "data\n"
      ],
      "execution_count": 0,
      "outputs": [
        {
          "output_type": "execute_result",
          "data": {
            "text/html": [
              "<div>\n",
              "<style scoped>\n",
              "    .dataframe tbody tr th:only-of-type {\n",
              "        vertical-align: middle;\n",
              "    }\n",
              "\n",
              "    .dataframe tbody tr th {\n",
              "        vertical-align: top;\n",
              "    }\n",
              "\n",
              "    .dataframe thead th {\n",
              "        text-align: right;\n",
              "    }\n",
              "</style>\n",
              "<table border=\"1\" class=\"dataframe\">\n",
              "  <thead>\n",
              "    <tr style=\"text-align: right;\">\n",
              "      <th></th>\n",
              "      <th>INCIDENT_KEY</th>\n",
              "      <th>OCCUR_DATE</th>\n",
              "      <th>OCCUR_TIME</th>\n",
              "      <th>BORO</th>\n",
              "      <th>PRECINCT</th>\n",
              "      <th>JURISDICTION_CODE</th>\n",
              "      <th>LOCATION_DESC</th>\n",
              "      <th>STATISTICAL_MURDER_FLAG</th>\n",
              "      <th>PERP_AGE_GROUP</th>\n",
              "      <th>PERP_SEX</th>\n",
              "      <th>PERP_RACE</th>\n",
              "      <th>VIC_AGE_GROUP</th>\n",
              "      <th>VIC_SEX</th>\n",
              "      <th>VIC_RACE</th>\n",
              "      <th>X_COORD_CD</th>\n",
              "      <th>Y_COORD_CD</th>\n",
              "      <th>Latitude</th>\n",
              "      <th>Longitude</th>\n",
              "      <th>Indexes</th>\n",
              "    </tr>\n",
              "  </thead>\n",
              "  <tbody>\n",
              "    <tr>\n",
              "      <th>0</th>\n",
              "      <td>203083804</td>\n",
              "      <td>09/30/2019</td>\n",
              "      <td>13:49:00</td>\n",
              "      <td>MANHATTAN</td>\n",
              "      <td>23</td>\n",
              "      <td>2.0</td>\n",
              "      <td>MULTI DWELL - PUBLIC HOUS</td>\n",
              "      <td>False</td>\n",
              "      <td>18-24</td>\n",
              "      <td>M</td>\n",
              "      <td>BLACK</td>\n",
              "      <td>18-24</td>\n",
              "      <td>M</td>\n",
              "      <td>BLACK</td>\n",
              "      <td>998869</td>\n",
              "      <td>230618</td>\n",
              "      <td>40.799665</td>\n",
              "      <td>-73.947200</td>\n",
              "      <td>-1</td>\n",
              "    </tr>\n",
              "    <tr>\n",
              "      <th>1</th>\n",
              "      <td>203083804</td>\n",
              "      <td>09/30/2019</td>\n",
              "      <td>13:49:00</td>\n",
              "      <td>MANHATTAN</td>\n",
              "      <td>23</td>\n",
              "      <td>2.0</td>\n",
              "      <td>MULTI DWELL - PUBLIC HOUS</td>\n",
              "      <td>True</td>\n",
              "      <td>18-24</td>\n",
              "      <td>M</td>\n",
              "      <td>BLACK</td>\n",
              "      <td>18-24</td>\n",
              "      <td>M</td>\n",
              "      <td>BLACK</td>\n",
              "      <td>998869</td>\n",
              "      <td>230618</td>\n",
              "      <td>40.799665</td>\n",
              "      <td>-73.947200</td>\n",
              "      <td>-1</td>\n",
              "    </tr>\n",
              "    <tr>\n",
              "      <th>4</th>\n",
              "      <td>203041424</td>\n",
              "      <td>09/29/2019</td>\n",
              "      <td>00:35:00</td>\n",
              "      <td>BRONX</td>\n",
              "      <td>47</td>\n",
              "      <td>2.0</td>\n",
              "      <td>MULTI DWELL - PUBLIC HOUS</td>\n",
              "      <td>True</td>\n",
              "      <td>25-44</td>\n",
              "      <td>M</td>\n",
              "      <td>BLACK</td>\n",
              "      <td>25-44</td>\n",
              "      <td>M</td>\n",
              "      <td>WHITE</td>\n",
              "      <td>1026855</td>\n",
              "      <td>262287</td>\n",
              "      <td>40.886497</td>\n",
              "      <td>-73.845917</td>\n",
              "      <td>0</td>\n",
              "    </tr>\n",
              "    <tr>\n",
              "      <th>17</th>\n",
              "      <td>202944932</td>\n",
              "      <td>09/26/2019</td>\n",
              "      <td>02:30:00</td>\n",
              "      <td>BRONX</td>\n",
              "      <td>40</td>\n",
              "      <td>2.0</td>\n",
              "      <td>MULTI DWELL - PUBLIC HOUS</td>\n",
              "      <td>False</td>\n",
              "      <td>25-44</td>\n",
              "      <td>F</td>\n",
              "      <td>BLACK HISPANIC</td>\n",
              "      <td>25-44</td>\n",
              "      <td>M</td>\n",
              "      <td>BLACK</td>\n",
              "      <td>1005170</td>\n",
              "      <td>235308</td>\n",
              "      <td>40.812525</td>\n",
              "      <td>-73.924427</td>\n",
              "      <td>0</td>\n",
              "    </tr>\n",
              "    <tr>\n",
              "      <th>21</th>\n",
              "      <td>202853371</td>\n",
              "      <td>09/24/2019</td>\n",
              "      <td>17:45:00</td>\n",
              "      <td>BROOKLYN</td>\n",
              "      <td>73</td>\n",
              "      <td>2.0</td>\n",
              "      <td>MULTI DWELL - PUBLIC HOUS</td>\n",
              "      <td>False</td>\n",
              "      <td>18-24</td>\n",
              "      <td>M</td>\n",
              "      <td>BLACK</td>\n",
              "      <td>18-24</td>\n",
              "      <td>M</td>\n",
              "      <td>BLACK</td>\n",
              "      <td>1006117</td>\n",
              "      <td>183402</td>\n",
              "      <td>40.670054</td>\n",
              "      <td>-73.921175</td>\n",
              "      <td>-1</td>\n",
              "    </tr>\n",
              "    <tr>\n",
              "      <th>...</th>\n",
              "      <td>...</td>\n",
              "      <td>...</td>\n",
              "      <td>...</td>\n",
              "      <td>...</td>\n",
              "      <td>...</td>\n",
              "      <td>...</td>\n",
              "      <td>...</td>\n",
              "      <td>...</td>\n",
              "      <td>...</td>\n",
              "      <td>...</td>\n",
              "      <td>...</td>\n",
              "      <td>...</td>\n",
              "      <td>...</td>\n",
              "      <td>...</td>\n",
              "      <td>...</td>\n",
              "      <td>...</td>\n",
              "      <td>...</td>\n",
              "      <td>...</td>\n",
              "      <td>...</td>\n",
              "    </tr>\n",
              "    <tr>\n",
              "      <th>733</th>\n",
              "      <td>191995443</td>\n",
              "      <td>01/07/2019</td>\n",
              "      <td>19:19:00</td>\n",
              "      <td>BRONX</td>\n",
              "      <td>48</td>\n",
              "      <td>2.0</td>\n",
              "      <td>MULTI DWELL - PUBLIC HOUS</td>\n",
              "      <td>True</td>\n",
              "      <td>25-44</td>\n",
              "      <td>M</td>\n",
              "      <td>BLACK</td>\n",
              "      <td>25-44</td>\n",
              "      <td>M</td>\n",
              "      <td>BLACK</td>\n",
              "      <td>1017483</td>\n",
              "      <td>245763</td>\n",
              "      <td>40.841184</td>\n",
              "      <td>-73.879894</td>\n",
              "      <td>0</td>\n",
              "    </tr>\n",
              "    <tr>\n",
              "      <th>735</th>\n",
              "      <td>191951588</td>\n",
              "      <td>01/06/2019</td>\n",
              "      <td>03:00:00</td>\n",
              "      <td>BRONX</td>\n",
              "      <td>43</td>\n",
              "      <td>2.0</td>\n",
              "      <td>MULTI DWELL - PUBLIC HOUS</td>\n",
              "      <td>True</td>\n",
              "      <td>18-24</td>\n",
              "      <td>M</td>\n",
              "      <td>BLACK</td>\n",
              "      <td>25-44</td>\n",
              "      <td>M</td>\n",
              "      <td>WHITE HISPANIC</td>\n",
              "      <td>1021283</td>\n",
              "      <td>238581</td>\n",
              "      <td>40.821456</td>\n",
              "      <td>-73.866200</td>\n",
              "      <td>0</td>\n",
              "    </tr>\n",
              "    <tr>\n",
              "      <th>736</th>\n",
              "      <td>191951588</td>\n",
              "      <td>01/06/2019</td>\n",
              "      <td>03:00:00</td>\n",
              "      <td>BRONX</td>\n",
              "      <td>43</td>\n",
              "      <td>2.0</td>\n",
              "      <td>MULTI DWELL - PUBLIC HOUS</td>\n",
              "      <td>True</td>\n",
              "      <td>25-44</td>\n",
              "      <td>M</td>\n",
              "      <td>BLACK</td>\n",
              "      <td>25-44</td>\n",
              "      <td>M</td>\n",
              "      <td>WHITE HISPANIC</td>\n",
              "      <td>1021283</td>\n",
              "      <td>238581</td>\n",
              "      <td>40.821456</td>\n",
              "      <td>-73.866200</td>\n",
              "      <td>0</td>\n",
              "    </tr>\n",
              "    <tr>\n",
              "      <th>742</th>\n",
              "      <td>191853461</td>\n",
              "      <td>01/04/2019</td>\n",
              "      <td>02:20:00</td>\n",
              "      <td>BROOKLYN</td>\n",
              "      <td>60</td>\n",
              "      <td>0.0</td>\n",
              "      <td>MULTI DWELL - APT BUILD</td>\n",
              "      <td>False</td>\n",
              "      <td>18-24</td>\n",
              "      <td>M</td>\n",
              "      <td>BLACK</td>\n",
              "      <td>45-64</td>\n",
              "      <td>M</td>\n",
              "      <td>BLACK</td>\n",
              "      <td>986229</td>\n",
              "      <td>148311</td>\n",
              "      <td>40.573763</td>\n",
              "      <td>-73.992878</td>\n",
              "      <td>-1</td>\n",
              "    </tr>\n",
              "    <tr>\n",
              "      <th>748</th>\n",
              "      <td>191739126</td>\n",
              "      <td>01/01/2019</td>\n",
              "      <td>02:19:00</td>\n",
              "      <td>BRONX</td>\n",
              "      <td>46</td>\n",
              "      <td>2.0</td>\n",
              "      <td>MULTI DWELL - APT BUILD</td>\n",
              "      <td>False</td>\n",
              "      <td>25-44</td>\n",
              "      <td>M</td>\n",
              "      <td>BLACK HISPANIC</td>\n",
              "      <td>25-44</td>\n",
              "      <td>M</td>\n",
              "      <td>BLACK</td>\n",
              "      <td>1013072</td>\n",
              "      <td>251276</td>\n",
              "      <td>40.856331</td>\n",
              "      <td>-73.895812</td>\n",
              "      <td>0</td>\n",
              "    </tr>\n",
              "  </tbody>\n",
              "</table>\n",
              "<p>138 rows × 19 columns</p>\n",
              "</div>"
            ],
            "text/plain": [
              "     INCIDENT_KEY  OCCUR_DATE OCCUR_TIME  ...   Latitude  Longitude  Indexes\n",
              "0       203083804  09/30/2019   13:49:00  ...  40.799665 -73.947200       -1\n",
              "1       203083804  09/30/2019   13:49:00  ...  40.799665 -73.947200       -1\n",
              "4       203041424  09/29/2019   00:35:00  ...  40.886497 -73.845917        0\n",
              "17      202944932  09/26/2019   02:30:00  ...  40.812525 -73.924427        0\n",
              "21      202853371  09/24/2019   17:45:00  ...  40.670054 -73.921175       -1\n",
              "..            ...         ...        ...  ...        ...        ...      ...\n",
              "733     191995443  01/07/2019   19:19:00  ...  40.841184 -73.879894        0\n",
              "735     191951588  01/06/2019   03:00:00  ...  40.821456 -73.866200        0\n",
              "736     191951588  01/06/2019   03:00:00  ...  40.821456 -73.866200        0\n",
              "742     191853461  01/04/2019   02:20:00  ...  40.573763 -73.992878       -1\n",
              "748     191739126  01/01/2019   02:19:00  ...  40.856331 -73.895812        0\n",
              "\n",
              "[138 rows x 19 columns]"
            ]
          },
          "metadata": {
            "tags": []
          },
          "execution_count": 122
        }
      ]
    }
  ]
}